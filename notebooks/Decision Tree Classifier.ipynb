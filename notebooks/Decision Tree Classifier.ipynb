{
 "cells": [
  {
   "cell_type": "code",
   "execution_count": 1,
   "id": "7c3d3af5",
   "metadata": {},
   "outputs": [
    {
     "name": "stdout",
     "output_type": "stream",
     "text": [
      "Collecting opencv-python\n",
      "  Downloading opencv_python-4.7.0.72-cp37-abi3-win_amd64.whl (38.2 MB)\n",
      "     --------------------------------------- 38.2/38.2 MB 32.7 MB/s eta 0:00:00\n",
      "Requirement already satisfied: numpy>=1.17.0 in c:\\users\\srmhalgi\\appdata\\local\\anaconda3\\lib\\site-packages (from opencv-python) (1.23.5)\n",
      "Installing collected packages: opencv-python\n",
      "Successfully installed opencv-python-4.7.0.72\n"
     ]
    }
   ],
   "source": [
    "# install the open cv library\n",
    "!pip install opencv-python"
   ]
  },
  {
   "cell_type": "code",
   "execution_count": 2,
   "id": "48a1d8a4",
   "metadata": {},
   "outputs": [
    {
     "name": "stdout",
     "output_type": "stream",
     "text": [
      "Collecting xgboost\n",
      "  Downloading xgboost-1.7.5-py3-none-win_amd64.whl (70.9 MB)\n",
      "     --------------------------------------- 70.9/70.9 MB 23.4 MB/s eta 0:00:00\n",
      "Requirement already satisfied: scipy in c:\\users\\srmhalgi\\appdata\\local\\anaconda3\\lib\\site-packages (from xgboost) (1.10.0)\n",
      "Requirement already satisfied: numpy in c:\\users\\srmhalgi\\appdata\\local\\anaconda3\\lib\\site-packages (from xgboost) (1.23.5)\n",
      "Installing collected packages: xgboost\n",
      "Successfully installed xgboost-1.7.5\n"
     ]
    }
   ],
   "source": [
    "!pip install xgboost"
   ]
  },
  {
   "cell_type": "code",
   "execution_count": 3,
   "id": "1a1188a5",
   "metadata": {},
   "outputs": [],
   "source": [
    "# importing the packages\n",
    "import pandas as pd\n",
    "import os\n",
    "from PIL import Image\n",
    "import cv2\n",
    "import numpy as np\n",
    "import matplotlib.pyplot as plt\n",
    "from tqdm import tqdm\n",
    "import seaborn as sns\n",
    "import matplotlib.pyplot as plt\n",
    "from tqdm import tqdm\n",
    "import matplotlib.patches as mpatches\n",
    "from sklearn.model_selection import train_test_split\n",
    "from sklearn.linear_model import LogisticRegression\n",
    "from sklearn import metrics\n",
    "from sklearn.tree import DecisionTreeClassifier\n",
    "from sklearn.ensemble import RandomForestClassifier\n",
    "from sklearn.svm import SVC\n",
    "from sklearn.neighbors import NearestNeighbors\n",
    "from sklearn.ensemble import AdaBoostClassifier\n",
    "from sklearn.metrics import accuracy_score\n",
    "import xgboost as xgb\n",
    "from sklearn.metrics import precision_score, recall_score, f1_score\n",
    "import pickle\n",
    "from sklearn.preprocessing import StandardScaler\n",
    "from sklearn.model_selection import KFold\n",
    "from sklearn.pipeline import Pipeline\n",
    "from sklearn.model_selection import GridSearchCV"
   ]
  },
  {
   "cell_type": "code",
   "execution_count": 4,
   "id": "a60dad5b",
   "metadata": {},
   "outputs": [],
   "source": [
    "# there are approx 5 features present overall across 75000 images\n",
    "features_dataframe = pd.read_csv(\"final_dataset_containing_5_extracted_features.csv\")"
   ]
  },
  {
   "cell_type": "code",
   "execution_count": 5,
   "id": "dd3b53bc",
   "metadata": {},
   "outputs": [
    {
     "data": {
      "text/plain": [
       "(72986, 12)"
      ]
     },
     "execution_count": 5,
     "metadata": {},
     "output_type": "execute_result"
    }
   ],
   "source": [
    "features_dataframe.shape"
   ]
  },
  {
   "cell_type": "code",
   "execution_count": 6,
   "id": "9cf13669",
   "metadata": {},
   "outputs": [
    {
     "data": {
      "text/html": [
       "<div>\n",
       "<style scoped>\n",
       "    .dataframe tbody tr th:only-of-type {\n",
       "        vertical-align: middle;\n",
       "    }\n",
       "\n",
       "    .dataframe tbody tr th {\n",
       "        vertical-align: top;\n",
       "    }\n",
       "\n",
       "    .dataframe thead th {\n",
       "        text-align: right;\n",
       "    }\n",
       "</style>\n",
       "<table border=\"1\" class=\"dataframe\">\n",
       "  <thead>\n",
       "    <tr style=\"text-align: right;\">\n",
       "      <th></th>\n",
       "      <th>file_name</th>\n",
       "      <th>feature_x_1</th>\n",
       "      <th>feature_x_2</th>\n",
       "      <th>feature_x_3</th>\n",
       "      <th>feature_x_4</th>\n",
       "      <th>feature_x_5</th>\n",
       "      <th>feature_y_1</th>\n",
       "      <th>feature_y_2</th>\n",
       "      <th>feature_y_3</th>\n",
       "      <th>feature_y_4</th>\n",
       "      <th>feature_y_5</th>\n",
       "      <th>is_gan</th>\n",
       "    </tr>\n",
       "  </thead>\n",
       "  <tbody>\n",
       "    <tr>\n",
       "      <th>0</th>\n",
       "      <td>00000.png</td>\n",
       "      <td>125</td>\n",
       "      <td>101.0</td>\n",
       "      <td>73.0</td>\n",
       "      <td>NaN</td>\n",
       "      <td>NaN</td>\n",
       "      <td>89</td>\n",
       "      <td>130.0</td>\n",
       "      <td>87.0</td>\n",
       "      <td>NaN</td>\n",
       "      <td>NaN</td>\n",
       "      <td>No</td>\n",
       "    </tr>\n",
       "    <tr>\n",
       "      <th>1</th>\n",
       "      <td>000004.png</td>\n",
       "      <td>127</td>\n",
       "      <td>75.0</td>\n",
       "      <td>NaN</td>\n",
       "      <td>NaN</td>\n",
       "      <td>NaN</td>\n",
       "      <td>90</td>\n",
       "      <td>87.0</td>\n",
       "      <td>NaN</td>\n",
       "      <td>NaN</td>\n",
       "      <td>NaN</td>\n",
       "      <td>Yes</td>\n",
       "    </tr>\n",
       "    <tr>\n",
       "      <th>2</th>\n",
       "      <td>00001.png</td>\n",
       "      <td>126</td>\n",
       "      <td>75.0</td>\n",
       "      <td>76.0</td>\n",
       "      <td>NaN</td>\n",
       "      <td>NaN</td>\n",
       "      <td>91</td>\n",
       "      <td>90.0</td>\n",
       "      <td>139.0</td>\n",
       "      <td>NaN</td>\n",
       "      <td>NaN</td>\n",
       "      <td>No</td>\n",
       "    </tr>\n",
       "    <tr>\n",
       "      <th>3</th>\n",
       "      <td>000014.png</td>\n",
       "      <td>130</td>\n",
       "      <td>77.0</td>\n",
       "      <td>NaN</td>\n",
       "      <td>NaN</td>\n",
       "      <td>NaN</td>\n",
       "      <td>89</td>\n",
       "      <td>91.0</td>\n",
       "      <td>NaN</td>\n",
       "      <td>NaN</td>\n",
       "      <td>NaN</td>\n",
       "      <td>Yes</td>\n",
       "    </tr>\n",
       "    <tr>\n",
       "      <th>4</th>\n",
       "      <td>000016.png</td>\n",
       "      <td>127</td>\n",
       "      <td>173.0</td>\n",
       "      <td>74.0</td>\n",
       "      <td>NaN</td>\n",
       "      <td>NaN</td>\n",
       "      <td>90</td>\n",
       "      <td>61.0</td>\n",
       "      <td>91.0</td>\n",
       "      <td>NaN</td>\n",
       "      <td>NaN</td>\n",
       "      <td>Yes</td>\n",
       "    </tr>\n",
       "  </tbody>\n",
       "</table>\n",
       "</div>"
      ],
      "text/plain": [
       "    file_name  feature_x_1  feature_x_2  feature_x_3  feature_x_4  \\\n",
       "0   00000.png          125        101.0         73.0          NaN   \n",
       "1  000004.png          127         75.0          NaN          NaN   \n",
       "2   00001.png          126         75.0         76.0          NaN   \n",
       "3  000014.png          130         77.0          NaN          NaN   \n",
       "4  000016.png          127        173.0         74.0          NaN   \n",
       "\n",
       "   feature_x_5  feature_y_1  feature_y_2  feature_y_3  feature_y_4  \\\n",
       "0          NaN           89        130.0         87.0          NaN   \n",
       "1          NaN           90         87.0          NaN          NaN   \n",
       "2          NaN           91         90.0        139.0          NaN   \n",
       "3          NaN           89         91.0          NaN          NaN   \n",
       "4          NaN           90         61.0         91.0          NaN   \n",
       "\n",
       "   feature_y_5 is_gan  \n",
       "0          NaN     No  \n",
       "1          NaN    Yes  \n",
       "2          NaN     No  \n",
       "3          NaN    Yes  \n",
       "4          NaN    Yes  "
      ]
     },
     "execution_count": 6,
     "metadata": {},
     "output_type": "execute_result"
    }
   ],
   "source": [
    "# viewing the features_dataframe\n",
    "features_dataframe.head()"
   ]
  },
  {
   "cell_type": "code",
   "execution_count": 7,
   "id": "d0d90ae3",
   "metadata": {},
   "outputs": [
    {
     "data": {
      "text/html": [
       "<div>\n",
       "<style scoped>\n",
       "    .dataframe tbody tr th:only-of-type {\n",
       "        vertical-align: middle;\n",
       "    }\n",
       "\n",
       "    .dataframe tbody tr th {\n",
       "        vertical-align: top;\n",
       "    }\n",
       "\n",
       "    .dataframe thead th {\n",
       "        text-align: right;\n",
       "    }\n",
       "</style>\n",
       "<table border=\"1\" class=\"dataframe\">\n",
       "  <thead>\n",
       "    <tr style=\"text-align: right;\">\n",
       "      <th></th>\n",
       "      <th>file_name</th>\n",
       "      <th>feature_x_1</th>\n",
       "      <th>feature_x_2</th>\n",
       "      <th>feature_x_3</th>\n",
       "      <th>feature_x_4</th>\n",
       "      <th>feature_x_5</th>\n",
       "      <th>feature_y_1</th>\n",
       "      <th>feature_y_2</th>\n",
       "      <th>feature_y_3</th>\n",
       "      <th>feature_y_4</th>\n",
       "      <th>feature_y_5</th>\n",
       "      <th>is_gan</th>\n",
       "    </tr>\n",
       "  </thead>\n",
       "  <tbody>\n",
       "    <tr>\n",
       "      <th>43801</th>\n",
       "      <td>23257.png</td>\n",
       "      <td>78</td>\n",
       "      <td>124.0</td>\n",
       "      <td>NaN</td>\n",
       "      <td>NaN</td>\n",
       "      <td>NaN</td>\n",
       "      <td>85</td>\n",
       "      <td>89.0</td>\n",
       "      <td>NaN</td>\n",
       "      <td>NaN</td>\n",
       "      <td>NaN</td>\n",
       "      <td>No</td>\n",
       "    </tr>\n",
       "    <tr>\n",
       "      <th>63517</th>\n",
       "      <td>44023.png</td>\n",
       "      <td>78</td>\n",
       "      <td>123.0</td>\n",
       "      <td>NaN</td>\n",
       "      <td>NaN</td>\n",
       "      <td>NaN</td>\n",
       "      <td>91</td>\n",
       "      <td>91.0</td>\n",
       "      <td>NaN</td>\n",
       "      <td>NaN</td>\n",
       "      <td>NaN</td>\n",
       "      <td>No</td>\n",
       "    </tr>\n",
       "    <tr>\n",
       "      <th>42542</th>\n",
       "      <td>21935.png</td>\n",
       "      <td>76</td>\n",
       "      <td>127.0</td>\n",
       "      <td>88.0</td>\n",
       "      <td>115.0</td>\n",
       "      <td>NaN</td>\n",
       "      <td>89</td>\n",
       "      <td>90.0</td>\n",
       "      <td>145.0</td>\n",
       "      <td>144.0</td>\n",
       "      <td>NaN</td>\n",
       "      <td>No</td>\n",
       "    </tr>\n",
       "    <tr>\n",
       "      <th>44142</th>\n",
       "      <td>23618.png</td>\n",
       "      <td>57</td>\n",
       "      <td>123.0</td>\n",
       "      <td>102.0</td>\n",
       "      <td>159.0</td>\n",
       "      <td>NaN</td>\n",
       "      <td>91</td>\n",
       "      <td>88.0</td>\n",
       "      <td>145.0</td>\n",
       "      <td>86.0</td>\n",
       "      <td>NaN</td>\n",
       "      <td>No</td>\n",
       "    </tr>\n",
       "    <tr>\n",
       "      <th>55795</th>\n",
       "      <td>35909.png</td>\n",
       "      <td>78</td>\n",
       "      <td>113.0</td>\n",
       "      <td>123.0</td>\n",
       "      <td>88.0</td>\n",
       "      <td>NaN</td>\n",
       "      <td>88</td>\n",
       "      <td>145.0</td>\n",
       "      <td>89.0</td>\n",
       "      <td>22.0</td>\n",
       "      <td>NaN</td>\n",
       "      <td>No</td>\n",
       "    </tr>\n",
       "  </tbody>\n",
       "</table>\n",
       "</div>"
      ],
      "text/plain": [
       "       file_name  feature_x_1  feature_x_2  feature_x_3  feature_x_4  \\\n",
       "43801  23257.png           78        124.0          NaN          NaN   \n",
       "63517  44023.png           78        123.0          NaN          NaN   \n",
       "42542  21935.png           76        127.0         88.0        115.0   \n",
       "44142  23618.png           57        123.0        102.0        159.0   \n",
       "55795  35909.png           78        113.0        123.0         88.0   \n",
       "\n",
       "       feature_x_5  feature_y_1  feature_y_2  feature_y_3  feature_y_4  \\\n",
       "43801          NaN           85         89.0          NaN          NaN   \n",
       "63517          NaN           91         91.0          NaN          NaN   \n",
       "42542          NaN           89         90.0        145.0        144.0   \n",
       "44142          NaN           91         88.0        145.0         86.0   \n",
       "55795          NaN           88        145.0         89.0         22.0   \n",
       "\n",
       "       feature_y_5 is_gan  \n",
       "43801          NaN     No  \n",
       "63517          NaN     No  \n",
       "42542          NaN     No  \n",
       "44142          NaN     No  \n",
       "55795          NaN     No  "
      ]
     },
     "execution_count": 7,
     "metadata": {},
     "output_type": "execute_result"
    }
   ],
   "source": [
    "# performing shuffling on features_dataframe\n",
    "features_dataframe = features_dataframe.sample(frac=1)\n",
    "features_dataframe.head()"
   ]
  },
  {
   "cell_type": "code",
   "execution_count": 8,
   "id": "7d17f3cd",
   "metadata": {},
   "outputs": [],
   "source": [
    "features_dataframe = features_dataframe.fillna(-1)"
   ]
  },
  {
   "cell_type": "code",
   "execution_count": 9,
   "id": "323004c4",
   "metadata": {},
   "outputs": [],
   "source": [
    "# normalizing the data\n",
    "is_gan = features_dataframe[\"is_gan\"] \n",
    "features_dataframe.drop(columns=[\"file_name\", \"is_gan\"], inplace=True)"
   ]
  },
  {
   "cell_type": "code",
   "execution_count": 10,
   "id": "2f8c26c9",
   "metadata": {},
   "outputs": [
    {
     "data": {
      "text/html": [
       "<div>\n",
       "<style scoped>\n",
       "    .dataframe tbody tr th:only-of-type {\n",
       "        vertical-align: middle;\n",
       "    }\n",
       "\n",
       "    .dataframe tbody tr th {\n",
       "        vertical-align: top;\n",
       "    }\n",
       "\n",
       "    .dataframe thead th {\n",
       "        text-align: right;\n",
       "    }\n",
       "</style>\n",
       "<table border=\"1\" class=\"dataframe\">\n",
       "  <thead>\n",
       "    <tr style=\"text-align: right;\">\n",
       "      <th></th>\n",
       "      <th>0</th>\n",
       "      <th>1</th>\n",
       "      <th>2</th>\n",
       "      <th>3</th>\n",
       "      <th>4</th>\n",
       "      <th>5</th>\n",
       "      <th>6</th>\n",
       "      <th>7</th>\n",
       "      <th>8</th>\n",
       "      <th>9</th>\n",
       "    </tr>\n",
       "  </thead>\n",
       "  <tbody>\n",
       "    <tr>\n",
       "      <th>0</th>\n",
       "      <td>-1.196018</td>\n",
       "      <td>0.985635</td>\n",
       "      <td>-0.923653</td>\n",
       "      <td>-0.432465</td>\n",
       "      <td>-0.189726</td>\n",
       "      <td>-0.492777</td>\n",
       "      <td>0.127754</td>\n",
       "      <td>-0.899031</td>\n",
       "      <td>-0.420531</td>\n",
       "      <td>-0.183362</td>\n",
       "    </tr>\n",
       "    <tr>\n",
       "      <th>1</th>\n",
       "      <td>-1.196018</td>\n",
       "      <td>0.959388</td>\n",
       "      <td>-0.923653</td>\n",
       "      <td>-0.432465</td>\n",
       "      <td>-0.189726</td>\n",
       "      <td>-0.127320</td>\n",
       "      <td>0.185082</td>\n",
       "      <td>-0.899031</td>\n",
       "      <td>-0.420531</td>\n",
       "      <td>-0.183362</td>\n",
       "    </tr>\n",
       "    <tr>\n",
       "      <th>2</th>\n",
       "      <td>-1.277176</td>\n",
       "      <td>1.064378</td>\n",
       "      <td>0.843687</td>\n",
       "      <td>2.658660</td>\n",
       "      <td>-0.189726</td>\n",
       "      <td>-0.249139</td>\n",
       "      <td>0.156418</td>\n",
       "      <td>1.491823</td>\n",
       "      <td>2.830785</td>\n",
       "      <td>-0.183362</td>\n",
       "    </tr>\n",
       "    <tr>\n",
       "      <th>3</th>\n",
       "      <td>-2.048178</td>\n",
       "      <td>0.959388</td>\n",
       "      <td>1.121696</td>\n",
       "      <td>3.831156</td>\n",
       "      <td>-0.189726</td>\n",
       "      <td>-0.127320</td>\n",
       "      <td>0.099089</td>\n",
       "      <td>1.491823</td>\n",
       "      <td>1.530259</td>\n",
       "      <td>-0.183362</td>\n",
       "    </tr>\n",
       "    <tr>\n",
       "      <th>4</th>\n",
       "      <td>-1.196018</td>\n",
       "      <td>0.696914</td>\n",
       "      <td>1.538709</td>\n",
       "      <td>1.939174</td>\n",
       "      <td>-0.189726</td>\n",
       "      <td>-0.310048</td>\n",
       "      <td>1.732958</td>\n",
       "      <td>0.574783</td>\n",
       "      <td>0.095195</td>\n",
       "      <td>-0.183362</td>\n",
       "    </tr>\n",
       "    <tr>\n",
       "      <th>...</th>\n",
       "      <td>...</td>\n",
       "      <td>...</td>\n",
       "      <td>...</td>\n",
       "      <td>...</td>\n",
       "      <td>...</td>\n",
       "      <td>...</td>\n",
       "      <td>...</td>\n",
       "      <td>...</td>\n",
       "      <td>...</td>\n",
       "      <td>...</td>\n",
       "    </tr>\n",
       "    <tr>\n",
       "      <th>72981</th>\n",
       "      <td>0.792355</td>\n",
       "      <td>-0.169251</td>\n",
       "      <td>0.565679</td>\n",
       "      <td>-0.432465</td>\n",
       "      <td>-0.189726</td>\n",
       "      <td>-0.249139</td>\n",
       "      <td>1.532307</td>\n",
       "      <td>0.558408</td>\n",
       "      <td>-0.420531</td>\n",
       "      <td>-0.183362</td>\n",
       "    </tr>\n",
       "    <tr>\n",
       "      <th>72982</th>\n",
       "      <td>0.751776</td>\n",
       "      <td>-0.221746</td>\n",
       "      <td>-0.923653</td>\n",
       "      <td>-0.432465</td>\n",
       "      <td>-0.189726</td>\n",
       "      <td>-0.127320</td>\n",
       "      <td>0.185082</td>\n",
       "      <td>-0.899031</td>\n",
       "      <td>-0.420531</td>\n",
       "      <td>-0.183362</td>\n",
       "    </tr>\n",
       "    <tr>\n",
       "      <th>72983</th>\n",
       "      <td>0.751776</td>\n",
       "      <td>0.486934</td>\n",
       "      <td>-0.923653</td>\n",
       "      <td>-0.432465</td>\n",
       "      <td>-0.189726</td>\n",
       "      <td>-0.249139</td>\n",
       "      <td>1.704293</td>\n",
       "      <td>-0.899031</td>\n",
       "      <td>-0.420531</td>\n",
       "      <td>-0.183362</td>\n",
       "    </tr>\n",
       "    <tr>\n",
       "      <th>72984</th>\n",
       "      <td>0.711197</td>\n",
       "      <td>-0.221746</td>\n",
       "      <td>0.704683</td>\n",
       "      <td>2.632012</td>\n",
       "      <td>-0.189726</td>\n",
       "      <td>-0.249139</td>\n",
       "      <td>0.213747</td>\n",
       "      <td>1.409944</td>\n",
       "      <td>2.853208</td>\n",
       "      <td>-0.183362</td>\n",
       "    </tr>\n",
       "    <tr>\n",
       "      <th>72985</th>\n",
       "      <td>0.711197</td>\n",
       "      <td>-0.300489</td>\n",
       "      <td>-0.923653</td>\n",
       "      <td>-0.432465</td>\n",
       "      <td>-0.189726</td>\n",
       "      <td>-0.249139</td>\n",
       "      <td>0.127754</td>\n",
       "      <td>-0.899031</td>\n",
       "      <td>-0.420531</td>\n",
       "      <td>-0.183362</td>\n",
       "    </tr>\n",
       "  </tbody>\n",
       "</table>\n",
       "<p>72986 rows × 10 columns</p>\n",
       "</div>"
      ],
      "text/plain": [
       "              0         1         2         3         4         5         6  \\\n",
       "0     -1.196018  0.985635 -0.923653 -0.432465 -0.189726 -0.492777  0.127754   \n",
       "1     -1.196018  0.959388 -0.923653 -0.432465 -0.189726 -0.127320  0.185082   \n",
       "2     -1.277176  1.064378  0.843687  2.658660 -0.189726 -0.249139  0.156418   \n",
       "3     -2.048178  0.959388  1.121696  3.831156 -0.189726 -0.127320  0.099089   \n",
       "4     -1.196018  0.696914  1.538709  1.939174 -0.189726 -0.310048  1.732958   \n",
       "...         ...       ...       ...       ...       ...       ...       ...   \n",
       "72981  0.792355 -0.169251  0.565679 -0.432465 -0.189726 -0.249139  1.532307   \n",
       "72982  0.751776 -0.221746 -0.923653 -0.432465 -0.189726 -0.127320  0.185082   \n",
       "72983  0.751776  0.486934 -0.923653 -0.432465 -0.189726 -0.249139  1.704293   \n",
       "72984  0.711197 -0.221746  0.704683  2.632012 -0.189726 -0.249139  0.213747   \n",
       "72985  0.711197 -0.300489 -0.923653 -0.432465 -0.189726 -0.249139  0.127754   \n",
       "\n",
       "              7         8         9  \n",
       "0     -0.899031 -0.420531 -0.183362  \n",
       "1     -0.899031 -0.420531 -0.183362  \n",
       "2      1.491823  2.830785 -0.183362  \n",
       "3      1.491823  1.530259 -0.183362  \n",
       "4      0.574783  0.095195 -0.183362  \n",
       "...         ...       ...       ...  \n",
       "72981  0.558408 -0.420531 -0.183362  \n",
       "72982 -0.899031 -0.420531 -0.183362  \n",
       "72983 -0.899031 -0.420531 -0.183362  \n",
       "72984  1.409944  2.853208 -0.183362  \n",
       "72985 -0.899031 -0.420531 -0.183362  \n",
       "\n",
       "[72986 rows x 10 columns]"
      ]
     },
     "execution_count": 10,
     "metadata": {},
     "output_type": "execute_result"
    }
   ],
   "source": [
    "standard_scalar = StandardScaler()\n",
    "features_dataframe = standard_scalar.fit_transform(features_dataframe)\n",
    "features_dataframe = pd.DataFrame(features_dataframe)\n",
    "features_dataframe"
   ]
  },
  {
   "cell_type": "code",
   "execution_count": 11,
   "id": "a46e9658",
   "metadata": {},
   "outputs": [
    {
     "data": {
      "text/html": [
       "<div>\n",
       "<style scoped>\n",
       "    .dataframe tbody tr th:only-of-type {\n",
       "        vertical-align: middle;\n",
       "    }\n",
       "\n",
       "    .dataframe tbody tr th {\n",
       "        vertical-align: top;\n",
       "    }\n",
       "\n",
       "    .dataframe thead th {\n",
       "        text-align: right;\n",
       "    }\n",
       "</style>\n",
       "<table border=\"1\" class=\"dataframe\">\n",
       "  <thead>\n",
       "    <tr style=\"text-align: right;\">\n",
       "      <th></th>\n",
       "      <th>0</th>\n",
       "      <th>1</th>\n",
       "      <th>2</th>\n",
       "      <th>3</th>\n",
       "      <th>4</th>\n",
       "      <th>5</th>\n",
       "      <th>6</th>\n",
       "      <th>7</th>\n",
       "      <th>8</th>\n",
       "      <th>9</th>\n",
       "      <th>is_gan</th>\n",
       "    </tr>\n",
       "  </thead>\n",
       "  <tbody>\n",
       "    <tr>\n",
       "      <th>0</th>\n",
       "      <td>-1.196018</td>\n",
       "      <td>0.985635</td>\n",
       "      <td>-0.923653</td>\n",
       "      <td>-0.432465</td>\n",
       "      <td>-0.189726</td>\n",
       "      <td>-0.492777</td>\n",
       "      <td>0.127754</td>\n",
       "      <td>-0.899031</td>\n",
       "      <td>-0.420531</td>\n",
       "      <td>-0.183362</td>\n",
       "      <td>0</td>\n",
       "    </tr>\n",
       "    <tr>\n",
       "      <th>1</th>\n",
       "      <td>-1.196018</td>\n",
       "      <td>0.959388</td>\n",
       "      <td>-0.923653</td>\n",
       "      <td>-0.432465</td>\n",
       "      <td>-0.189726</td>\n",
       "      <td>-0.127320</td>\n",
       "      <td>0.185082</td>\n",
       "      <td>-0.899031</td>\n",
       "      <td>-0.420531</td>\n",
       "      <td>-0.183362</td>\n",
       "      <td>1</td>\n",
       "    </tr>\n",
       "    <tr>\n",
       "      <th>2</th>\n",
       "      <td>-1.277176</td>\n",
       "      <td>1.064378</td>\n",
       "      <td>0.843687</td>\n",
       "      <td>2.658660</td>\n",
       "      <td>-0.189726</td>\n",
       "      <td>-0.249139</td>\n",
       "      <td>0.156418</td>\n",
       "      <td>1.491823</td>\n",
       "      <td>2.830785</td>\n",
       "      <td>-0.183362</td>\n",
       "      <td>0</td>\n",
       "    </tr>\n",
       "    <tr>\n",
       "      <th>3</th>\n",
       "      <td>-2.048178</td>\n",
       "      <td>0.959388</td>\n",
       "      <td>1.121696</td>\n",
       "      <td>3.831156</td>\n",
       "      <td>-0.189726</td>\n",
       "      <td>-0.127320</td>\n",
       "      <td>0.099089</td>\n",
       "      <td>1.491823</td>\n",
       "      <td>1.530259</td>\n",
       "      <td>-0.183362</td>\n",
       "      <td>1</td>\n",
       "    </tr>\n",
       "    <tr>\n",
       "      <th>4</th>\n",
       "      <td>-1.196018</td>\n",
       "      <td>0.696914</td>\n",
       "      <td>1.538709</td>\n",
       "      <td>1.939174</td>\n",
       "      <td>-0.189726</td>\n",
       "      <td>-0.310048</td>\n",
       "      <td>1.732958</td>\n",
       "      <td>0.574783</td>\n",
       "      <td>0.095195</td>\n",
       "      <td>-0.183362</td>\n",
       "      <td>1</td>\n",
       "    </tr>\n",
       "    <tr>\n",
       "      <th>...</th>\n",
       "      <td>...</td>\n",
       "      <td>...</td>\n",
       "      <td>...</td>\n",
       "      <td>...</td>\n",
       "      <td>...</td>\n",
       "      <td>...</td>\n",
       "      <td>...</td>\n",
       "      <td>...</td>\n",
       "      <td>...</td>\n",
       "      <td>...</td>\n",
       "      <td>...</td>\n",
       "    </tr>\n",
       "    <tr>\n",
       "      <th>72981</th>\n",
       "      <td>0.792355</td>\n",
       "      <td>-0.169251</td>\n",
       "      <td>0.565679</td>\n",
       "      <td>-0.432465</td>\n",
       "      <td>-0.189726</td>\n",
       "      <td>-0.249139</td>\n",
       "      <td>1.532307</td>\n",
       "      <td>0.558408</td>\n",
       "      <td>-0.420531</td>\n",
       "      <td>-0.183362</td>\n",
       "      <td>0</td>\n",
       "    </tr>\n",
       "    <tr>\n",
       "      <th>72982</th>\n",
       "      <td>0.751776</td>\n",
       "      <td>-0.221746</td>\n",
       "      <td>-0.923653</td>\n",
       "      <td>-0.432465</td>\n",
       "      <td>-0.189726</td>\n",
       "      <td>-0.127320</td>\n",
       "      <td>0.185082</td>\n",
       "      <td>-0.899031</td>\n",
       "      <td>-0.420531</td>\n",
       "      <td>-0.183362</td>\n",
       "      <td>0</td>\n",
       "    </tr>\n",
       "    <tr>\n",
       "      <th>72983</th>\n",
       "      <td>0.751776</td>\n",
       "      <td>0.486934</td>\n",
       "      <td>-0.923653</td>\n",
       "      <td>-0.432465</td>\n",
       "      <td>-0.189726</td>\n",
       "      <td>-0.249139</td>\n",
       "      <td>1.704293</td>\n",
       "      <td>-0.899031</td>\n",
       "      <td>-0.420531</td>\n",
       "      <td>-0.183362</td>\n",
       "      <td>0</td>\n",
       "    </tr>\n",
       "    <tr>\n",
       "      <th>72984</th>\n",
       "      <td>0.711197</td>\n",
       "      <td>-0.221746</td>\n",
       "      <td>0.704683</td>\n",
       "      <td>2.632012</td>\n",
       "      <td>-0.189726</td>\n",
       "      <td>-0.249139</td>\n",
       "      <td>0.213747</td>\n",
       "      <td>1.409944</td>\n",
       "      <td>2.853208</td>\n",
       "      <td>-0.183362</td>\n",
       "      <td>0</td>\n",
       "    </tr>\n",
       "    <tr>\n",
       "      <th>72985</th>\n",
       "      <td>0.711197</td>\n",
       "      <td>-0.300489</td>\n",
       "      <td>-0.923653</td>\n",
       "      <td>-0.432465</td>\n",
       "      <td>-0.189726</td>\n",
       "      <td>-0.249139</td>\n",
       "      <td>0.127754</td>\n",
       "      <td>-0.899031</td>\n",
       "      <td>-0.420531</td>\n",
       "      <td>-0.183362</td>\n",
       "      <td>0</td>\n",
       "    </tr>\n",
       "  </tbody>\n",
       "</table>\n",
       "<p>72986 rows × 11 columns</p>\n",
       "</div>"
      ],
      "text/plain": [
       "              0         1         2         3         4         5         6  \\\n",
       "0     -1.196018  0.985635 -0.923653 -0.432465 -0.189726 -0.492777  0.127754   \n",
       "1     -1.196018  0.959388 -0.923653 -0.432465 -0.189726 -0.127320  0.185082   \n",
       "2     -1.277176  1.064378  0.843687  2.658660 -0.189726 -0.249139  0.156418   \n",
       "3     -2.048178  0.959388  1.121696  3.831156 -0.189726 -0.127320  0.099089   \n",
       "4     -1.196018  0.696914  1.538709  1.939174 -0.189726 -0.310048  1.732958   \n",
       "...         ...       ...       ...       ...       ...       ...       ...   \n",
       "72981  0.792355 -0.169251  0.565679 -0.432465 -0.189726 -0.249139  1.532307   \n",
       "72982  0.751776 -0.221746 -0.923653 -0.432465 -0.189726 -0.127320  0.185082   \n",
       "72983  0.751776  0.486934 -0.923653 -0.432465 -0.189726 -0.249139  1.704293   \n",
       "72984  0.711197 -0.221746  0.704683  2.632012 -0.189726 -0.249139  0.213747   \n",
       "72985  0.711197 -0.300489 -0.923653 -0.432465 -0.189726 -0.249139  0.127754   \n",
       "\n",
       "              7         8         9  is_gan  \n",
       "0     -0.899031 -0.420531 -0.183362       0  \n",
       "1     -0.899031 -0.420531 -0.183362       1  \n",
       "2      1.491823  2.830785 -0.183362       0  \n",
       "3      1.491823  1.530259 -0.183362       1  \n",
       "4      0.574783  0.095195 -0.183362       1  \n",
       "...         ...       ...       ...     ...  \n",
       "72981  0.558408 -0.420531 -0.183362       0  \n",
       "72982 -0.899031 -0.420531 -0.183362       0  \n",
       "72983 -0.899031 -0.420531 -0.183362       0  \n",
       "72984  1.409944  2.853208 -0.183362       0  \n",
       "72985 -0.899031 -0.420531 -0.183362       0  \n",
       "\n",
       "[72986 rows x 11 columns]"
      ]
     },
     "execution_count": 11,
     "metadata": {},
     "output_type": "execute_result"
    }
   ],
   "source": [
    "features_dataframe[\"is_gan\"] = is_gan\n",
    "features_dataframe[\"is_gan\"] = features_dataframe[\"is_gan\"].map(dict(Yes=1, No=0))\n",
    "features_dataframe"
   ]
  },
  {
   "cell_type": "code",
   "execution_count": 12,
   "id": "5e0e1570",
   "metadata": {},
   "outputs": [
    {
     "data": {
      "text/plain": [
       "0         0\n",
       "1         0\n",
       "2         0\n",
       "3         0\n",
       "4         0\n",
       "5         0\n",
       "6         0\n",
       "7         0\n",
       "8         0\n",
       "9         0\n",
       "is_gan    0\n",
       "dtype: int64"
      ]
     },
     "execution_count": 12,
     "metadata": {},
     "output_type": "execute_result"
    }
   ],
   "source": [
    "features_dataframe.isna().sum()"
   ]
  },
  {
   "cell_type": "code",
   "execution_count": 13,
   "id": "ef9cb375",
   "metadata": {},
   "outputs": [],
   "source": [
    "x = features_dataframe\n",
    "y = features_dataframe[\"is_gan\"]\n",
    "x.drop(columns=[\"is_gan\"], inplace=True)"
   ]
  },
  {
   "cell_type": "code",
   "execution_count": 14,
   "id": "10f96f93",
   "metadata": {},
   "outputs": [],
   "source": [
    "x_train, x_test, y_train, y_test = train_test_split(x, y, test_size=0.30, random_state=0)"
   ]
  },
  {
   "cell_type": "code",
   "execution_count": 15,
   "id": "a1c952ab",
   "metadata": {},
   "outputs": [
    {
     "data": {
      "text/plain": [
       "'Shape of training data = 51090 and testing data = 21896'"
      ]
     },
     "execution_count": 15,
     "metadata": {},
     "output_type": "execute_result"
    }
   ],
   "source": [
    "f\"Shape of training data = {x_train.shape[0]} and testing data = {x_test.shape[0]}\""
   ]
  },
  {
   "cell_type": "markdown",
   "id": "a8ff0ff8",
   "metadata": {},
   "source": [
    "## Performing experiments using the following hyperparameters to find the best model"
   ]
  },
  {
   "cell_type": "code",
   "execution_count": 16,
   "id": "75bc13d9",
   "metadata": {},
   "outputs": [
    {
     "data": {
      "text/html": [
       "<style>#sk-container-id-1 {color: black;background-color: white;}#sk-container-id-1 pre{padding: 0;}#sk-container-id-1 div.sk-toggleable {background-color: white;}#sk-container-id-1 label.sk-toggleable__label {cursor: pointer;display: block;width: 100%;margin-bottom: 0;padding: 0.3em;box-sizing: border-box;text-align: center;}#sk-container-id-1 label.sk-toggleable__label-arrow:before {content: \"▸\";float: left;margin-right: 0.25em;color: #696969;}#sk-container-id-1 label.sk-toggleable__label-arrow:hover:before {color: black;}#sk-container-id-1 div.sk-estimator:hover label.sk-toggleable__label-arrow:before {color: black;}#sk-container-id-1 div.sk-toggleable__content {max-height: 0;max-width: 0;overflow: hidden;text-align: left;background-color: #f0f8ff;}#sk-container-id-1 div.sk-toggleable__content pre {margin: 0.2em;color: black;border-radius: 0.25em;background-color: #f0f8ff;}#sk-container-id-1 input.sk-toggleable__control:checked~div.sk-toggleable__content {max-height: 200px;max-width: 100%;overflow: auto;}#sk-container-id-1 input.sk-toggleable__control:checked~label.sk-toggleable__label-arrow:before {content: \"▾\";}#sk-container-id-1 div.sk-estimator input.sk-toggleable__control:checked~label.sk-toggleable__label {background-color: #d4ebff;}#sk-container-id-1 div.sk-label input.sk-toggleable__control:checked~label.sk-toggleable__label {background-color: #d4ebff;}#sk-container-id-1 input.sk-hidden--visually {border: 0;clip: rect(1px 1px 1px 1px);clip: rect(1px, 1px, 1px, 1px);height: 1px;margin: -1px;overflow: hidden;padding: 0;position: absolute;width: 1px;}#sk-container-id-1 div.sk-estimator {font-family: monospace;background-color: #f0f8ff;border: 1px dotted black;border-radius: 0.25em;box-sizing: border-box;margin-bottom: 0.5em;}#sk-container-id-1 div.sk-estimator:hover {background-color: #d4ebff;}#sk-container-id-1 div.sk-parallel-item::after {content: \"\";width: 100%;border-bottom: 1px solid gray;flex-grow: 1;}#sk-container-id-1 div.sk-label:hover label.sk-toggleable__label {background-color: #d4ebff;}#sk-container-id-1 div.sk-serial::before {content: \"\";position: absolute;border-left: 1px solid gray;box-sizing: border-box;top: 0;bottom: 0;left: 50%;z-index: 0;}#sk-container-id-1 div.sk-serial {display: flex;flex-direction: column;align-items: center;background-color: white;padding-right: 0.2em;padding-left: 0.2em;position: relative;}#sk-container-id-1 div.sk-item {position: relative;z-index: 1;}#sk-container-id-1 div.sk-parallel {display: flex;align-items: stretch;justify-content: center;background-color: white;position: relative;}#sk-container-id-1 div.sk-item::before, #sk-container-id-1 div.sk-parallel-item::before {content: \"\";position: absolute;border-left: 1px solid gray;box-sizing: border-box;top: 0;bottom: 0;left: 50%;z-index: -1;}#sk-container-id-1 div.sk-parallel-item {display: flex;flex-direction: column;z-index: 1;position: relative;background-color: white;}#sk-container-id-1 div.sk-parallel-item:first-child::after {align-self: flex-end;width: 50%;}#sk-container-id-1 div.sk-parallel-item:last-child::after {align-self: flex-start;width: 50%;}#sk-container-id-1 div.sk-parallel-item:only-child::after {width: 0;}#sk-container-id-1 div.sk-dashed-wrapped {border: 1px dashed gray;margin: 0 0.4em 0.5em 0.4em;box-sizing: border-box;padding-bottom: 0.4em;background-color: white;}#sk-container-id-1 div.sk-label label {font-family: monospace;font-weight: bold;display: inline-block;line-height: 1.2em;}#sk-container-id-1 div.sk-label-container {text-align: center;}#sk-container-id-1 div.sk-container {/* jupyter's `normalize.less` sets `[hidden] { display: none; }` but bootstrap.min.css set `[hidden] { display: none !important; }` so we also need the `!important` here to be able to override the default hidden behavior on the sphinx rendered scikit-learn.org. See: https://github.com/scikit-learn/scikit-learn/issues/21755 */display: inline-block !important;position: relative;}#sk-container-id-1 div.sk-text-repr-fallback {display: none;}</style><div id=\"sk-container-id-1\" class=\"sk-top-container\"><div class=\"sk-text-repr-fallback\"><pre>Pipeline(steps=[(&#x27;classifier&#x27;, DecisionTreeClassifier())])</pre><b>In a Jupyter environment, please rerun this cell to show the HTML representation or trust the notebook. <br />On GitHub, the HTML representation is unable to render, please try loading this page with nbviewer.org.</b></div><div class=\"sk-container\" hidden><div class=\"sk-item sk-dashed-wrapped\"><div class=\"sk-label-container\"><div class=\"sk-label sk-toggleable\"><input class=\"sk-toggleable__control sk-hidden--visually\" id=\"sk-estimator-id-1\" type=\"checkbox\" ><label for=\"sk-estimator-id-1\" class=\"sk-toggleable__label sk-toggleable__label-arrow\">Pipeline</label><div class=\"sk-toggleable__content\"><pre>Pipeline(steps=[(&#x27;classifier&#x27;, DecisionTreeClassifier())])</pre></div></div></div><div class=\"sk-serial\"><div class=\"sk-item\"><div class=\"sk-estimator sk-toggleable\"><input class=\"sk-toggleable__control sk-hidden--visually\" id=\"sk-estimator-id-2\" type=\"checkbox\" ><label for=\"sk-estimator-id-2\" class=\"sk-toggleable__label sk-toggleable__label-arrow\">DecisionTreeClassifier</label><div class=\"sk-toggleable__content\"><pre>DecisionTreeClassifier()</pre></div></div></div></div></div></div></div>"
      ],
      "text/plain": [
       "Pipeline(steps=[('classifier', DecisionTreeClassifier())])"
      ]
     },
     "execution_count": 16,
     "metadata": {},
     "output_type": "execute_result"
    }
   ],
   "source": [
    "# Performing Kfold cross validation\n",
    "decision_tree_pipeline = Pipeline([(\"classifier\", DecisionTreeClassifier())])\n",
    "param_grid = {'classifier__criterion' : [\"gini\", \"entropy\", \"log_loss\"],\n",
    "             'classifier__splitter' : [\"best\", \"random\"],\n",
    "             'classifier__max_depth' : [2, 3, 4, 5, 6, 7, 8, 9, 10, 11, 12, 13, 14, 15, 16, 17, 18, 19, 20],\n",
    "             'classifier__max_features': [\"auto\", \"sqrt\", \"log2\"]\n",
    "             }\n",
    "\n",
    "decision_tree_pipeline"
   ]
  },
  {
   "cell_type": "code",
   "execution_count": 17,
   "id": "eeff6c6d",
   "metadata": {},
   "outputs": [],
   "source": [
    "gridsearch_cv = GridSearchCV(decision_tree_pipeline, param_grid=param_grid, cv=10, verbose=2, n_jobs=-1)"
   ]
  },
  {
   "cell_type": "code",
   "execution_count": 18,
   "id": "b12b3883",
   "metadata": {},
   "outputs": [
    {
     "name": "stdout",
     "output_type": "stream",
     "text": [
      "Fitting 10 folds for each of 342 candidates, totalling 3420 fits\n"
     ]
    },
    {
     "data": {
      "text/html": [
       "<style>#sk-container-id-2 {color: black;background-color: white;}#sk-container-id-2 pre{padding: 0;}#sk-container-id-2 div.sk-toggleable {background-color: white;}#sk-container-id-2 label.sk-toggleable__label {cursor: pointer;display: block;width: 100%;margin-bottom: 0;padding: 0.3em;box-sizing: border-box;text-align: center;}#sk-container-id-2 label.sk-toggleable__label-arrow:before {content: \"▸\";float: left;margin-right: 0.25em;color: #696969;}#sk-container-id-2 label.sk-toggleable__label-arrow:hover:before {color: black;}#sk-container-id-2 div.sk-estimator:hover label.sk-toggleable__label-arrow:before {color: black;}#sk-container-id-2 div.sk-toggleable__content {max-height: 0;max-width: 0;overflow: hidden;text-align: left;background-color: #f0f8ff;}#sk-container-id-2 div.sk-toggleable__content pre {margin: 0.2em;color: black;border-radius: 0.25em;background-color: #f0f8ff;}#sk-container-id-2 input.sk-toggleable__control:checked~div.sk-toggleable__content {max-height: 200px;max-width: 100%;overflow: auto;}#sk-container-id-2 input.sk-toggleable__control:checked~label.sk-toggleable__label-arrow:before {content: \"▾\";}#sk-container-id-2 div.sk-estimator input.sk-toggleable__control:checked~label.sk-toggleable__label {background-color: #d4ebff;}#sk-container-id-2 div.sk-label input.sk-toggleable__control:checked~label.sk-toggleable__label {background-color: #d4ebff;}#sk-container-id-2 input.sk-hidden--visually {border: 0;clip: rect(1px 1px 1px 1px);clip: rect(1px, 1px, 1px, 1px);height: 1px;margin: -1px;overflow: hidden;padding: 0;position: absolute;width: 1px;}#sk-container-id-2 div.sk-estimator {font-family: monospace;background-color: #f0f8ff;border: 1px dotted black;border-radius: 0.25em;box-sizing: border-box;margin-bottom: 0.5em;}#sk-container-id-2 div.sk-estimator:hover {background-color: #d4ebff;}#sk-container-id-2 div.sk-parallel-item::after {content: \"\";width: 100%;border-bottom: 1px solid gray;flex-grow: 1;}#sk-container-id-2 div.sk-label:hover label.sk-toggleable__label {background-color: #d4ebff;}#sk-container-id-2 div.sk-serial::before {content: \"\";position: absolute;border-left: 1px solid gray;box-sizing: border-box;top: 0;bottom: 0;left: 50%;z-index: 0;}#sk-container-id-2 div.sk-serial {display: flex;flex-direction: column;align-items: center;background-color: white;padding-right: 0.2em;padding-left: 0.2em;position: relative;}#sk-container-id-2 div.sk-item {position: relative;z-index: 1;}#sk-container-id-2 div.sk-parallel {display: flex;align-items: stretch;justify-content: center;background-color: white;position: relative;}#sk-container-id-2 div.sk-item::before, #sk-container-id-2 div.sk-parallel-item::before {content: \"\";position: absolute;border-left: 1px solid gray;box-sizing: border-box;top: 0;bottom: 0;left: 50%;z-index: -1;}#sk-container-id-2 div.sk-parallel-item {display: flex;flex-direction: column;z-index: 1;position: relative;background-color: white;}#sk-container-id-2 div.sk-parallel-item:first-child::after {align-self: flex-end;width: 50%;}#sk-container-id-2 div.sk-parallel-item:last-child::after {align-self: flex-start;width: 50%;}#sk-container-id-2 div.sk-parallel-item:only-child::after {width: 0;}#sk-container-id-2 div.sk-dashed-wrapped {border: 1px dashed gray;margin: 0 0.4em 0.5em 0.4em;box-sizing: border-box;padding-bottom: 0.4em;background-color: white;}#sk-container-id-2 div.sk-label label {font-family: monospace;font-weight: bold;display: inline-block;line-height: 1.2em;}#sk-container-id-2 div.sk-label-container {text-align: center;}#sk-container-id-2 div.sk-container {/* jupyter's `normalize.less` sets `[hidden] { display: none; }` but bootstrap.min.css set `[hidden] { display: none !important; }` so we also need the `!important` here to be able to override the default hidden behavior on the sphinx rendered scikit-learn.org. See: https://github.com/scikit-learn/scikit-learn/issues/21755 */display: inline-block !important;position: relative;}#sk-container-id-2 div.sk-text-repr-fallback {display: none;}</style><div id=\"sk-container-id-2\" class=\"sk-top-container\"><div class=\"sk-text-repr-fallback\"><pre>GridSearchCV(cv=10,\n",
       "             estimator=Pipeline(steps=[(&#x27;classifier&#x27;,\n",
       "                                        DecisionTreeClassifier())]),\n",
       "             n_jobs=-1,\n",
       "             param_grid={&#x27;classifier__criterion&#x27;: [&#x27;gini&#x27;, &#x27;entropy&#x27;,\n",
       "                                                   &#x27;log_loss&#x27;],\n",
       "                         &#x27;classifier__max_depth&#x27;: [2, 3, 4, 5, 6, 7, 8, 9, 10,\n",
       "                                                   11, 12, 13, 14, 15, 16, 17,\n",
       "                                                   18, 19, 20],\n",
       "                         &#x27;classifier__max_features&#x27;: [&#x27;auto&#x27;, &#x27;sqrt&#x27;, &#x27;log2&#x27;],\n",
       "                         &#x27;classifier__splitter&#x27;: [&#x27;best&#x27;, &#x27;random&#x27;]},\n",
       "             verbose=2)</pre><b>In a Jupyter environment, please rerun this cell to show the HTML representation or trust the notebook. <br />On GitHub, the HTML representation is unable to render, please try loading this page with nbviewer.org.</b></div><div class=\"sk-container\" hidden><div class=\"sk-item sk-dashed-wrapped\"><div class=\"sk-label-container\"><div class=\"sk-label sk-toggleable\"><input class=\"sk-toggleable__control sk-hidden--visually\" id=\"sk-estimator-id-3\" type=\"checkbox\" ><label for=\"sk-estimator-id-3\" class=\"sk-toggleable__label sk-toggleable__label-arrow\">GridSearchCV</label><div class=\"sk-toggleable__content\"><pre>GridSearchCV(cv=10,\n",
       "             estimator=Pipeline(steps=[(&#x27;classifier&#x27;,\n",
       "                                        DecisionTreeClassifier())]),\n",
       "             n_jobs=-1,\n",
       "             param_grid={&#x27;classifier__criterion&#x27;: [&#x27;gini&#x27;, &#x27;entropy&#x27;,\n",
       "                                                   &#x27;log_loss&#x27;],\n",
       "                         &#x27;classifier__max_depth&#x27;: [2, 3, 4, 5, 6, 7, 8, 9, 10,\n",
       "                                                   11, 12, 13, 14, 15, 16, 17,\n",
       "                                                   18, 19, 20],\n",
       "                         &#x27;classifier__max_features&#x27;: [&#x27;auto&#x27;, &#x27;sqrt&#x27;, &#x27;log2&#x27;],\n",
       "                         &#x27;classifier__splitter&#x27;: [&#x27;best&#x27;, &#x27;random&#x27;]},\n",
       "             verbose=2)</pre></div></div></div><div class=\"sk-parallel\"><div class=\"sk-parallel-item\"><div class=\"sk-item\"><div class=\"sk-label-container\"><div class=\"sk-label sk-toggleable\"><input class=\"sk-toggleable__control sk-hidden--visually\" id=\"sk-estimator-id-4\" type=\"checkbox\" ><label for=\"sk-estimator-id-4\" class=\"sk-toggleable__label sk-toggleable__label-arrow\">estimator: Pipeline</label><div class=\"sk-toggleable__content\"><pre>Pipeline(steps=[(&#x27;classifier&#x27;, DecisionTreeClassifier())])</pre></div></div></div><div class=\"sk-serial\"><div class=\"sk-item\"><div class=\"sk-serial\"><div class=\"sk-item\"><div class=\"sk-estimator sk-toggleable\"><input class=\"sk-toggleable__control sk-hidden--visually\" id=\"sk-estimator-id-5\" type=\"checkbox\" ><label for=\"sk-estimator-id-5\" class=\"sk-toggleable__label sk-toggleable__label-arrow\">DecisionTreeClassifier</label><div class=\"sk-toggleable__content\"><pre>DecisionTreeClassifier()</pre></div></div></div></div></div></div></div></div></div></div></div></div>"
      ],
      "text/plain": [
       "GridSearchCV(cv=10,\n",
       "             estimator=Pipeline(steps=[('classifier',\n",
       "                                        DecisionTreeClassifier())]),\n",
       "             n_jobs=-1,\n",
       "             param_grid={'classifier__criterion': ['gini', 'entropy',\n",
       "                                                   'log_loss'],\n",
       "                         'classifier__max_depth': [2, 3, 4, 5, 6, 7, 8, 9, 10,\n",
       "                                                   11, 12, 13, 14, 15, 16, 17,\n",
       "                                                   18, 19, 20],\n",
       "                         'classifier__max_features': ['auto', 'sqrt', 'log2'],\n",
       "                         'classifier__splitter': ['best', 'random']},\n",
       "             verbose=2)"
      ]
     },
     "execution_count": 18,
     "metadata": {},
     "output_type": "execute_result"
    }
   ],
   "source": [
    "gridsearch_cv.fit(x_train, y_train)"
   ]
  },
  {
   "cell_type": "code",
   "execution_count": 19,
   "id": "285486a4",
   "metadata": {},
   "outputs": [
    {
     "data": {
      "text/plain": [
       "{'classifier__criterion': 'entropy',\n",
       " 'classifier__max_depth': 2,\n",
       " 'classifier__max_features': 'sqrt',\n",
       " 'classifier__splitter': 'best'}"
      ]
     },
     "execution_count": 19,
     "metadata": {},
     "output_type": "execute_result"
    }
   ],
   "source": [
    "gridsearch_cv.best_params_"
   ]
  },
  {
   "cell_type": "markdown",
   "id": "dd4947d7",
   "metadata": {},
   "source": [
    "## Training the model on the above best parameters"
   ]
  },
  {
   "cell_type": "code",
   "execution_count": 20,
   "id": "7f974748",
   "metadata": {},
   "outputs": [
    {
     "data": {
      "text/html": [
       "<style>#sk-container-id-3 {color: black;background-color: white;}#sk-container-id-3 pre{padding: 0;}#sk-container-id-3 div.sk-toggleable {background-color: white;}#sk-container-id-3 label.sk-toggleable__label {cursor: pointer;display: block;width: 100%;margin-bottom: 0;padding: 0.3em;box-sizing: border-box;text-align: center;}#sk-container-id-3 label.sk-toggleable__label-arrow:before {content: \"▸\";float: left;margin-right: 0.25em;color: #696969;}#sk-container-id-3 label.sk-toggleable__label-arrow:hover:before {color: black;}#sk-container-id-3 div.sk-estimator:hover label.sk-toggleable__label-arrow:before {color: black;}#sk-container-id-3 div.sk-toggleable__content {max-height: 0;max-width: 0;overflow: hidden;text-align: left;background-color: #f0f8ff;}#sk-container-id-3 div.sk-toggleable__content pre {margin: 0.2em;color: black;border-radius: 0.25em;background-color: #f0f8ff;}#sk-container-id-3 input.sk-toggleable__control:checked~div.sk-toggleable__content {max-height: 200px;max-width: 100%;overflow: auto;}#sk-container-id-3 input.sk-toggleable__control:checked~label.sk-toggleable__label-arrow:before {content: \"▾\";}#sk-container-id-3 div.sk-estimator input.sk-toggleable__control:checked~label.sk-toggleable__label {background-color: #d4ebff;}#sk-container-id-3 div.sk-label input.sk-toggleable__control:checked~label.sk-toggleable__label {background-color: #d4ebff;}#sk-container-id-3 input.sk-hidden--visually {border: 0;clip: rect(1px 1px 1px 1px);clip: rect(1px, 1px, 1px, 1px);height: 1px;margin: -1px;overflow: hidden;padding: 0;position: absolute;width: 1px;}#sk-container-id-3 div.sk-estimator {font-family: monospace;background-color: #f0f8ff;border: 1px dotted black;border-radius: 0.25em;box-sizing: border-box;margin-bottom: 0.5em;}#sk-container-id-3 div.sk-estimator:hover {background-color: #d4ebff;}#sk-container-id-3 div.sk-parallel-item::after {content: \"\";width: 100%;border-bottom: 1px solid gray;flex-grow: 1;}#sk-container-id-3 div.sk-label:hover label.sk-toggleable__label {background-color: #d4ebff;}#sk-container-id-3 div.sk-serial::before {content: \"\";position: absolute;border-left: 1px solid gray;box-sizing: border-box;top: 0;bottom: 0;left: 50%;z-index: 0;}#sk-container-id-3 div.sk-serial {display: flex;flex-direction: column;align-items: center;background-color: white;padding-right: 0.2em;padding-left: 0.2em;position: relative;}#sk-container-id-3 div.sk-item {position: relative;z-index: 1;}#sk-container-id-3 div.sk-parallel {display: flex;align-items: stretch;justify-content: center;background-color: white;position: relative;}#sk-container-id-3 div.sk-item::before, #sk-container-id-3 div.sk-parallel-item::before {content: \"\";position: absolute;border-left: 1px solid gray;box-sizing: border-box;top: 0;bottom: 0;left: 50%;z-index: -1;}#sk-container-id-3 div.sk-parallel-item {display: flex;flex-direction: column;z-index: 1;position: relative;background-color: white;}#sk-container-id-3 div.sk-parallel-item:first-child::after {align-self: flex-end;width: 50%;}#sk-container-id-3 div.sk-parallel-item:last-child::after {align-self: flex-start;width: 50%;}#sk-container-id-3 div.sk-parallel-item:only-child::after {width: 0;}#sk-container-id-3 div.sk-dashed-wrapped {border: 1px dashed gray;margin: 0 0.4em 0.5em 0.4em;box-sizing: border-box;padding-bottom: 0.4em;background-color: white;}#sk-container-id-3 div.sk-label label {font-family: monospace;font-weight: bold;display: inline-block;line-height: 1.2em;}#sk-container-id-3 div.sk-label-container {text-align: center;}#sk-container-id-3 div.sk-container {/* jupyter's `normalize.less` sets `[hidden] { display: none; }` but bootstrap.min.css set `[hidden] { display: none !important; }` so we also need the `!important` here to be able to override the default hidden behavior on the sphinx rendered scikit-learn.org. See: https://github.com/scikit-learn/scikit-learn/issues/21755 */display: inline-block !important;position: relative;}#sk-container-id-3 div.sk-text-repr-fallback {display: none;}</style><div id=\"sk-container-id-3\" class=\"sk-top-container\"><div class=\"sk-text-repr-fallback\"><pre>DecisionTreeClassifier(criterion=&#x27;entropy&#x27;, max_depth=2, max_features=&#x27;sqrt&#x27;)</pre><b>In a Jupyter environment, please rerun this cell to show the HTML representation or trust the notebook. <br />On GitHub, the HTML representation is unable to render, please try loading this page with nbviewer.org.</b></div><div class=\"sk-container\" hidden><div class=\"sk-item\"><div class=\"sk-estimator sk-toggleable\"><input class=\"sk-toggleable__control sk-hidden--visually\" id=\"sk-estimator-id-6\" type=\"checkbox\" checked><label for=\"sk-estimator-id-6\" class=\"sk-toggleable__label sk-toggleable__label-arrow\">DecisionTreeClassifier</label><div class=\"sk-toggleable__content\"><pre>DecisionTreeClassifier(criterion=&#x27;entropy&#x27;, max_depth=2, max_features=&#x27;sqrt&#x27;)</pre></div></div></div></div></div>"
      ],
      "text/plain": [
       "DecisionTreeClassifier(criterion='entropy', max_depth=2, max_features='sqrt')"
      ]
     },
     "execution_count": 20,
     "metadata": {},
     "output_type": "execute_result"
    }
   ],
   "source": [
    "decision_tree_model = DecisionTreeClassifier(criterion=\"entropy\", max_depth=2, max_features=\"sqrt\", splitter=\"best\")\n",
    "decision_tree_model.fit(x_train, y_train)"
   ]
  },
  {
   "cell_type": "code",
   "execution_count": 21,
   "id": "efb26728",
   "metadata": {},
   "outputs": [],
   "source": [
    "decision_tree_predictions = decision_tree_model.predict(x_test)"
   ]
  },
  {
   "cell_type": "code",
   "execution_count": 22,
   "id": "f18b09d9",
   "metadata": {},
   "outputs": [
    {
     "name": "stdout",
     "output_type": "stream",
     "text": [
      "The confusion matrix for Decision Tree Classifier is given below: \n",
      " [[14908     0]\n",
      " [ 6988     0]]\n"
     ]
    }
   ],
   "source": [
    "cm = metrics.confusion_matrix(y_test, decision_tree_predictions)\n",
    "print(f\"The confusion matrix for Decision Tree Classifier is given below: \\n {cm}\")"
   ]
  },
  {
   "cell_type": "code",
   "execution_count": 23,
   "id": "4a20e7a1",
   "metadata": {},
   "outputs": [
    {
     "data": {
      "text/plain": [
       "0.6808549506759225"
      ]
     },
     "execution_count": 23,
     "metadata": {},
     "output_type": "execute_result"
    }
   ],
   "source": [
    "dt_precision = precision_score(y_test, decision_tree_predictions, average='weighted', labels=np.unique(decision_tree_predictions))\n",
    "dt_precision"
   ]
  },
  {
   "cell_type": "code",
   "execution_count": 24,
   "id": "8f7da26e",
   "metadata": {},
   "outputs": [
    {
     "data": {
      "text/plain": [
       "1.0"
      ]
     },
     "execution_count": 24,
     "metadata": {},
     "output_type": "execute_result"
    }
   ],
   "source": [
    "dt_recall = recall_score(y_test, decision_tree_predictions, average='weighted', labels=np.unique(decision_tree_predictions))\n",
    "dt_recall"
   ]
  },
  {
   "cell_type": "code",
   "execution_count": 25,
   "id": "b302e40f",
   "metadata": {},
   "outputs": [
    {
     "data": {
      "text/plain": [
       "0.8101293337680686"
      ]
     },
     "execution_count": 25,
     "metadata": {},
     "output_type": "execute_result"
    }
   ],
   "source": [
    "dt_f1 = f1_score(y_test, decision_tree_predictions, average='weighted', labels=np.unique(decision_tree_predictions))\n",
    "dt_f1"
   ]
  },
  {
   "cell_type": "code",
   "execution_count": 26,
   "id": "3bb09510",
   "metadata": {},
   "outputs": [],
   "source": [
    "# storing the deci model\n",
    "filename = 'decision_tree_final.pkl'\n",
    "pickle.dump(decision_tree_model, open(filename, 'wb'))"
   ]
  },
  {
   "cell_type": "code",
   "execution_count": null,
   "id": "0aae1fc8",
   "metadata": {},
   "outputs": [],
   "source": []
  }
 ],
 "metadata": {
  "kernelspec": {
   "display_name": "Python 3 (ipykernel)",
   "language": "python",
   "name": "python3"
  },
  "language_info": {
   "codemirror_mode": {
    "name": "ipython",
    "version": 3
   },
   "file_extension": ".py",
   "mimetype": "text/x-python",
   "name": "python",
   "nbconvert_exporter": "python",
   "pygments_lexer": "ipython3",
   "version": "3.10.9"
  }
 },
 "nbformat": 4,
 "nbformat_minor": 5
}
