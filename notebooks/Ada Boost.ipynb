{
 "cells": [
  {
   "cell_type": "code",
   "execution_count": 1,
   "id": "7c3d3af5",
   "metadata": {},
   "outputs": [
    {
     "name": "stdout",
     "output_type": "stream",
     "text": [
      "Requirement already satisfied: opencv-python in c:\\users\\srmhalgi\\appdata\\local\\anaconda3\\lib\\site-packages (4.7.0.72)\n",
      "Requirement already satisfied: numpy>=1.17.3 in c:\\users\\srmhalgi\\appdata\\local\\anaconda3\\lib\\site-packages (from opencv-python) (1.23.5)\n"
     ]
    }
   ],
   "source": [
    "# install the open cv library\n",
    "!pip install opencv-python"
   ]
  },
  {
   "cell_type": "code",
   "execution_count": 2,
   "id": "48a1d8a4",
   "metadata": {},
   "outputs": [
    {
     "name": "stdout",
     "output_type": "stream",
     "text": [
      "Requirement already satisfied: xgboost in c:\\users\\srmhalgi\\appdata\\local\\anaconda3\\lib\\site-packages (1.7.5)\n",
      "Requirement already satisfied: scipy in c:\\users\\srmhalgi\\appdata\\local\\anaconda3\\lib\\site-packages (from xgboost) (1.10.0)\n",
      "Requirement already satisfied: numpy in c:\\users\\srmhalgi\\appdata\\local\\anaconda3\\lib\\site-packages (from xgboost) (1.23.5)\n"
     ]
    }
   ],
   "source": [
    "!pip install xgboost"
   ]
  },
  {
   "cell_type": "code",
   "execution_count": 3,
   "id": "1a1188a5",
   "metadata": {},
   "outputs": [],
   "source": [
    "# importing the packages\n",
    "import pandas as pd\n",
    "import os\n",
    "from PIL import Image\n",
    "import cv2\n",
    "import numpy as np\n",
    "import matplotlib.pyplot as plt\n",
    "from tqdm import tqdm\n",
    "import seaborn as sns\n",
    "import matplotlib.pyplot as plt\n",
    "from tqdm import tqdm\n",
    "import matplotlib.patches as mpatches\n",
    "from sklearn.model_selection import train_test_split\n",
    "from sklearn.linear_model import LogisticRegression\n",
    "from sklearn import metrics\n",
    "from sklearn.tree import DecisionTreeClassifier\n",
    "from sklearn.ensemble import RandomForestClassifier\n",
    "from sklearn.svm import SVC\n",
    "from sklearn.neighbors import NearestNeighbors\n",
    "from sklearn.ensemble import AdaBoostClassifier\n",
    "from sklearn.metrics import accuracy_score\n",
    "import xgboost as xgb\n",
    "from sklearn.metrics import precision_score, recall_score, f1_score\n",
    "import pickle\n",
    "from sklearn.preprocessing import StandardScaler\n",
    "from sklearn.model_selection import KFold\n",
    "from sklearn.pipeline import Pipeline\n",
    "from sklearn.model_selection import GridSearchCV"
   ]
  },
  {
   "cell_type": "code",
   "execution_count": 4,
   "id": "a60dad5b",
   "metadata": {},
   "outputs": [],
   "source": [
    "# there are approx 5 features present overall across 75000 images\n",
    "features_dataframe = pd.read_csv(\"final_dataset_containing_5_extracted_features.csv\")"
   ]
  },
  {
   "cell_type": "code",
   "execution_count": 5,
   "id": "dd3b53bc",
   "metadata": {},
   "outputs": [
    {
     "data": {
      "text/plain": [
       "(72986, 12)"
      ]
     },
     "execution_count": 5,
     "metadata": {},
     "output_type": "execute_result"
    }
   ],
   "source": [
    "features_dataframe.shape"
   ]
  },
  {
   "cell_type": "code",
   "execution_count": 6,
   "id": "9cf13669",
   "metadata": {},
   "outputs": [
    {
     "data": {
      "text/html": [
       "<div>\n",
       "<style scoped>\n",
       "    .dataframe tbody tr th:only-of-type {\n",
       "        vertical-align: middle;\n",
       "    }\n",
       "\n",
       "    .dataframe tbody tr th {\n",
       "        vertical-align: top;\n",
       "    }\n",
       "\n",
       "    .dataframe thead th {\n",
       "        text-align: right;\n",
       "    }\n",
       "</style>\n",
       "<table border=\"1\" class=\"dataframe\">\n",
       "  <thead>\n",
       "    <tr style=\"text-align: right;\">\n",
       "      <th></th>\n",
       "      <th>file_name</th>\n",
       "      <th>feature_x_1</th>\n",
       "      <th>feature_x_2</th>\n",
       "      <th>feature_x_3</th>\n",
       "      <th>feature_x_4</th>\n",
       "      <th>feature_x_5</th>\n",
       "      <th>feature_y_1</th>\n",
       "      <th>feature_y_2</th>\n",
       "      <th>feature_y_3</th>\n",
       "      <th>feature_y_4</th>\n",
       "      <th>feature_y_5</th>\n",
       "      <th>is_gan</th>\n",
       "    </tr>\n",
       "  </thead>\n",
       "  <tbody>\n",
       "    <tr>\n",
       "      <th>0</th>\n",
       "      <td>00000.png</td>\n",
       "      <td>125</td>\n",
       "      <td>101.0</td>\n",
       "      <td>73.0</td>\n",
       "      <td>NaN</td>\n",
       "      <td>NaN</td>\n",
       "      <td>89</td>\n",
       "      <td>130.0</td>\n",
       "      <td>87.0</td>\n",
       "      <td>NaN</td>\n",
       "      <td>NaN</td>\n",
       "      <td>No</td>\n",
       "    </tr>\n",
       "    <tr>\n",
       "      <th>1</th>\n",
       "      <td>000004.png</td>\n",
       "      <td>127</td>\n",
       "      <td>75.0</td>\n",
       "      <td>NaN</td>\n",
       "      <td>NaN</td>\n",
       "      <td>NaN</td>\n",
       "      <td>90</td>\n",
       "      <td>87.0</td>\n",
       "      <td>NaN</td>\n",
       "      <td>NaN</td>\n",
       "      <td>NaN</td>\n",
       "      <td>Yes</td>\n",
       "    </tr>\n",
       "    <tr>\n",
       "      <th>2</th>\n",
       "      <td>00001.png</td>\n",
       "      <td>126</td>\n",
       "      <td>75.0</td>\n",
       "      <td>76.0</td>\n",
       "      <td>NaN</td>\n",
       "      <td>NaN</td>\n",
       "      <td>91</td>\n",
       "      <td>90.0</td>\n",
       "      <td>139.0</td>\n",
       "      <td>NaN</td>\n",
       "      <td>NaN</td>\n",
       "      <td>No</td>\n",
       "    </tr>\n",
       "    <tr>\n",
       "      <th>3</th>\n",
       "      <td>000014.png</td>\n",
       "      <td>130</td>\n",
       "      <td>77.0</td>\n",
       "      <td>NaN</td>\n",
       "      <td>NaN</td>\n",
       "      <td>NaN</td>\n",
       "      <td>89</td>\n",
       "      <td>91.0</td>\n",
       "      <td>NaN</td>\n",
       "      <td>NaN</td>\n",
       "      <td>NaN</td>\n",
       "      <td>Yes</td>\n",
       "    </tr>\n",
       "    <tr>\n",
       "      <th>4</th>\n",
       "      <td>000016.png</td>\n",
       "      <td>127</td>\n",
       "      <td>173.0</td>\n",
       "      <td>74.0</td>\n",
       "      <td>NaN</td>\n",
       "      <td>NaN</td>\n",
       "      <td>90</td>\n",
       "      <td>61.0</td>\n",
       "      <td>91.0</td>\n",
       "      <td>NaN</td>\n",
       "      <td>NaN</td>\n",
       "      <td>Yes</td>\n",
       "    </tr>\n",
       "  </tbody>\n",
       "</table>\n",
       "</div>"
      ],
      "text/plain": [
       "    file_name  feature_x_1  feature_x_2  feature_x_3  feature_x_4  \\\n",
       "0   00000.png          125        101.0         73.0          NaN   \n",
       "1  000004.png          127         75.0          NaN          NaN   \n",
       "2   00001.png          126         75.0         76.0          NaN   \n",
       "3  000014.png          130         77.0          NaN          NaN   \n",
       "4  000016.png          127        173.0         74.0          NaN   \n",
       "\n",
       "   feature_x_5  feature_y_1  feature_y_2  feature_y_3  feature_y_4  \\\n",
       "0          NaN           89        130.0         87.0          NaN   \n",
       "1          NaN           90         87.0          NaN          NaN   \n",
       "2          NaN           91         90.0        139.0          NaN   \n",
       "3          NaN           89         91.0          NaN          NaN   \n",
       "4          NaN           90         61.0         91.0          NaN   \n",
       "\n",
       "   feature_y_5 is_gan  \n",
       "0          NaN     No  \n",
       "1          NaN    Yes  \n",
       "2          NaN     No  \n",
       "3          NaN    Yes  \n",
       "4          NaN    Yes  "
      ]
     },
     "execution_count": 6,
     "metadata": {},
     "output_type": "execute_result"
    }
   ],
   "source": [
    "# viewing the features_dataframe\n",
    "features_dataframe.head()"
   ]
  },
  {
   "cell_type": "code",
   "execution_count": 7,
   "id": "d0d90ae3",
   "metadata": {},
   "outputs": [
    {
     "data": {
      "text/html": [
       "<div>\n",
       "<style scoped>\n",
       "    .dataframe tbody tr th:only-of-type {\n",
       "        vertical-align: middle;\n",
       "    }\n",
       "\n",
       "    .dataframe tbody tr th {\n",
       "        vertical-align: top;\n",
       "    }\n",
       "\n",
       "    .dataframe thead th {\n",
       "        text-align: right;\n",
       "    }\n",
       "</style>\n",
       "<table border=\"1\" class=\"dataframe\">\n",
       "  <thead>\n",
       "    <tr style=\"text-align: right;\">\n",
       "      <th></th>\n",
       "      <th>file_name</th>\n",
       "      <th>feature_x_1</th>\n",
       "      <th>feature_x_2</th>\n",
       "      <th>feature_x_3</th>\n",
       "      <th>feature_x_4</th>\n",
       "      <th>feature_x_5</th>\n",
       "      <th>feature_y_1</th>\n",
       "      <th>feature_y_2</th>\n",
       "      <th>feature_y_3</th>\n",
       "      <th>feature_y_4</th>\n",
       "      <th>feature_y_5</th>\n",
       "      <th>is_gan</th>\n",
       "    </tr>\n",
       "  </thead>\n",
       "  <tbody>\n",
       "    <tr>\n",
       "      <th>69952</th>\n",
       "      <td>50798.png</td>\n",
       "      <td>80</td>\n",
       "      <td>128.0</td>\n",
       "      <td>74.0</td>\n",
       "      <td>NaN</td>\n",
       "      <td>NaN</td>\n",
       "      <td>142</td>\n",
       "      <td>90.0</td>\n",
       "      <td>91.0</td>\n",
       "      <td>NaN</td>\n",
       "      <td>NaN</td>\n",
       "      <td>No</td>\n",
       "    </tr>\n",
       "    <tr>\n",
       "      <th>3881</th>\n",
       "      <td>011833.png</td>\n",
       "      <td>126</td>\n",
       "      <td>76.0</td>\n",
       "      <td>78.0</td>\n",
       "      <td>NaN</td>\n",
       "      <td>NaN</td>\n",
       "      <td>89</td>\n",
       "      <td>89.0</td>\n",
       "      <td>139.0</td>\n",
       "      <td>NaN</td>\n",
       "      <td>NaN</td>\n",
       "      <td>Yes</td>\n",
       "    </tr>\n",
       "    <tr>\n",
       "      <th>49547</th>\n",
       "      <td>29346.png</td>\n",
       "      <td>127</td>\n",
       "      <td>80.0</td>\n",
       "      <td>82.0</td>\n",
       "      <td>NaN</td>\n",
       "      <td>NaN</td>\n",
       "      <td>89</td>\n",
       "      <td>89.0</td>\n",
       "      <td>140.0</td>\n",
       "      <td>NaN</td>\n",
       "      <td>NaN</td>\n",
       "      <td>No</td>\n",
       "    </tr>\n",
       "    <tr>\n",
       "      <th>48792</th>\n",
       "      <td>28553.png</td>\n",
       "      <td>125</td>\n",
       "      <td>76.0</td>\n",
       "      <td>87.0</td>\n",
       "      <td>102.0</td>\n",
       "      <td>NaN</td>\n",
       "      <td>88</td>\n",
       "      <td>89.0</td>\n",
       "      <td>139.0</td>\n",
       "      <td>135.0</td>\n",
       "      <td>NaN</td>\n",
       "      <td>No</td>\n",
       "    </tr>\n",
       "    <tr>\n",
       "      <th>8527</th>\n",
       "      <td>025777.png</td>\n",
       "      <td>98</td>\n",
       "      <td>76.0</td>\n",
       "      <td>108.0</td>\n",
       "      <td>123.0</td>\n",
       "      <td>NaN</td>\n",
       "      <td>123</td>\n",
       "      <td>87.0</td>\n",
       "      <td>141.0</td>\n",
       "      <td>90.0</td>\n",
       "      <td>NaN</td>\n",
       "      <td>Yes</td>\n",
       "    </tr>\n",
       "  </tbody>\n",
       "</table>\n",
       "</div>"
      ],
      "text/plain": [
       "        file_name  feature_x_1  feature_x_2  feature_x_3  feature_x_4  \\\n",
       "69952   50798.png           80        128.0         74.0          NaN   \n",
       "3881   011833.png          126         76.0         78.0          NaN   \n",
       "49547   29346.png          127         80.0         82.0          NaN   \n",
       "48792   28553.png          125         76.0         87.0        102.0   \n",
       "8527   025777.png           98         76.0        108.0        123.0   \n",
       "\n",
       "       feature_x_5  feature_y_1  feature_y_2  feature_y_3  feature_y_4  \\\n",
       "69952          NaN          142         90.0         91.0          NaN   \n",
       "3881           NaN           89         89.0        139.0          NaN   \n",
       "49547          NaN           89         89.0        140.0          NaN   \n",
       "48792          NaN           88         89.0        139.0        135.0   \n",
       "8527           NaN          123         87.0        141.0         90.0   \n",
       "\n",
       "       feature_y_5 is_gan  \n",
       "69952          NaN     No  \n",
       "3881           NaN    Yes  \n",
       "49547          NaN     No  \n",
       "48792          NaN     No  \n",
       "8527           NaN    Yes  "
      ]
     },
     "execution_count": 7,
     "metadata": {},
     "output_type": "execute_result"
    }
   ],
   "source": [
    "# performing shuffling on features_dataframe\n",
    "features_dataframe = features_dataframe.sample(frac=1)\n",
    "features_dataframe.head()"
   ]
  },
  {
   "cell_type": "code",
   "execution_count": 8,
   "id": "7d17f3cd",
   "metadata": {},
   "outputs": [],
   "source": [
    "features_dataframe = features_dataframe.fillna(-1)"
   ]
  },
  {
   "cell_type": "code",
   "execution_count": 9,
   "id": "323004c4",
   "metadata": {},
   "outputs": [],
   "source": [
    "# normalizing the data\n",
    "is_gan = features_dataframe[\"is_gan\"] \n",
    "features_dataframe.drop(columns=[\"file_name\", \"is_gan\"], inplace=True)"
   ]
  },
  {
   "cell_type": "code",
   "execution_count": 10,
   "id": "2f8c26c9",
   "metadata": {},
   "outputs": [
    {
     "data": {
      "text/html": [
       "<div>\n",
       "<style scoped>\n",
       "    .dataframe tbody tr th:only-of-type {\n",
       "        vertical-align: middle;\n",
       "    }\n",
       "\n",
       "    .dataframe tbody tr th {\n",
       "        vertical-align: top;\n",
       "    }\n",
       "\n",
       "    .dataframe thead th {\n",
       "        text-align: right;\n",
       "    }\n",
       "</style>\n",
       "<table border=\"1\" class=\"dataframe\">\n",
       "  <thead>\n",
       "    <tr style=\"text-align: right;\">\n",
       "      <th></th>\n",
       "      <th>0</th>\n",
       "      <th>1</th>\n",
       "      <th>2</th>\n",
       "      <th>3</th>\n",
       "      <th>4</th>\n",
       "      <th>5</th>\n",
       "      <th>6</th>\n",
       "      <th>7</th>\n",
       "      <th>8</th>\n",
       "      <th>9</th>\n",
       "    </tr>\n",
       "  </thead>\n",
       "  <tbody>\n",
       "    <tr>\n",
       "      <th>0</th>\n",
       "      <td>-1.114860</td>\n",
       "      <td>1.090625</td>\n",
       "      <td>0.565679</td>\n",
       "      <td>-0.432465</td>\n",
       "      <td>-0.189726</td>\n",
       "      <td>2.979070</td>\n",
       "      <td>0.156418</td>\n",
       "      <td>0.607535</td>\n",
       "      <td>-0.420531</td>\n",
       "      <td>-0.183362</td>\n",
       "    </tr>\n",
       "    <tr>\n",
       "      <th>1</th>\n",
       "      <td>0.751776</td>\n",
       "      <td>-0.274241</td>\n",
       "      <td>0.645110</td>\n",
       "      <td>-0.432465</td>\n",
       "      <td>-0.189726</td>\n",
       "      <td>-0.249139</td>\n",
       "      <td>0.127754</td>\n",
       "      <td>1.393569</td>\n",
       "      <td>-0.420531</td>\n",
       "      <td>-0.183362</td>\n",
       "    </tr>\n",
       "    <tr>\n",
       "      <th>2</th>\n",
       "      <td>0.792355</td>\n",
       "      <td>-0.169251</td>\n",
       "      <td>0.724541</td>\n",
       "      <td>-0.432465</td>\n",
       "      <td>-0.189726</td>\n",
       "      <td>-0.249139</td>\n",
       "      <td>0.127754</td>\n",
       "      <td>1.409944</td>\n",
       "      <td>-0.420531</td>\n",
       "      <td>-0.183362</td>\n",
       "    </tr>\n",
       "    <tr>\n",
       "      <th>3</th>\n",
       "      <td>0.711197</td>\n",
       "      <td>-0.274241</td>\n",
       "      <td>0.823829</td>\n",
       "      <td>2.312241</td>\n",
       "      <td>-0.189726</td>\n",
       "      <td>-0.310048</td>\n",
       "      <td>0.127754</td>\n",
       "      <td>1.393569</td>\n",
       "      <td>2.628979</td>\n",
       "      <td>-0.183362</td>\n",
       "    </tr>\n",
       "    <tr>\n",
       "      <th>4</th>\n",
       "      <td>-0.384437</td>\n",
       "      <td>-0.274241</td>\n",
       "      <td>1.240842</td>\n",
       "      <td>2.871841</td>\n",
       "      <td>-0.189726</td>\n",
       "      <td>1.821787</td>\n",
       "      <td>0.070425</td>\n",
       "      <td>1.426320</td>\n",
       "      <td>1.619950</td>\n",
       "      <td>-0.183362</td>\n",
       "    </tr>\n",
       "    <tr>\n",
       "      <th>...</th>\n",
       "      <td>...</td>\n",
       "      <td>...</td>\n",
       "      <td>...</td>\n",
       "      <td>...</td>\n",
       "      <td>...</td>\n",
       "      <td>...</td>\n",
       "      <td>...</td>\n",
       "      <td>...</td>\n",
       "      <td>...</td>\n",
       "      <td>...</td>\n",
       "    </tr>\n",
       "    <tr>\n",
       "      <th>72981</th>\n",
       "      <td>-1.155439</td>\n",
       "      <td>0.906893</td>\n",
       "      <td>1.737286</td>\n",
       "      <td>-0.432465</td>\n",
       "      <td>-0.189726</td>\n",
       "      <td>-0.310048</td>\n",
       "      <td>0.127754</td>\n",
       "      <td>0.591159</td>\n",
       "      <td>-0.420531</td>\n",
       "      <td>-0.183362</td>\n",
       "    </tr>\n",
       "    <tr>\n",
       "      <th>72982</th>\n",
       "      <td>0.711197</td>\n",
       "      <td>-0.221746</td>\n",
       "      <td>0.803972</td>\n",
       "      <td>-0.432465</td>\n",
       "      <td>-0.189726</td>\n",
       "      <td>-0.310048</td>\n",
       "      <td>0.156418</td>\n",
       "      <td>1.409944</td>\n",
       "      <td>-0.420531</td>\n",
       "      <td>-0.183362</td>\n",
       "    </tr>\n",
       "    <tr>\n",
       "      <th>72983</th>\n",
       "      <td>-1.155439</td>\n",
       "      <td>0.985635</td>\n",
       "      <td>0.784114</td>\n",
       "      <td>-0.432465</td>\n",
       "      <td>-0.189726</td>\n",
       "      <td>2.918160</td>\n",
       "      <td>0.213747</td>\n",
       "      <td>0.542032</td>\n",
       "      <td>-0.420531</td>\n",
       "      <td>-0.183362</td>\n",
       "    </tr>\n",
       "    <tr>\n",
       "      <th>72984</th>\n",
       "      <td>0.792355</td>\n",
       "      <td>-0.247994</td>\n",
       "      <td>-0.923653</td>\n",
       "      <td>-0.432465</td>\n",
       "      <td>-0.189726</td>\n",
       "      <td>-0.310048</td>\n",
       "      <td>0.127754</td>\n",
       "      <td>-0.899031</td>\n",
       "      <td>-0.420531</td>\n",
       "      <td>-0.183362</td>\n",
       "    </tr>\n",
       "    <tr>\n",
       "      <th>72985</th>\n",
       "      <td>0.751776</td>\n",
       "      <td>-0.274241</td>\n",
       "      <td>-0.923653</td>\n",
       "      <td>-0.432465</td>\n",
       "      <td>-0.189726</td>\n",
       "      <td>-0.370958</td>\n",
       "      <td>0.213747</td>\n",
       "      <td>-0.899031</td>\n",
       "      <td>-0.420531</td>\n",
       "      <td>-0.183362</td>\n",
       "    </tr>\n",
       "  </tbody>\n",
       "</table>\n",
       "<p>72986 rows × 10 columns</p>\n",
       "</div>"
      ],
      "text/plain": [
       "              0         1         2         3         4         5         6  \\\n",
       "0     -1.114860  1.090625  0.565679 -0.432465 -0.189726  2.979070  0.156418   \n",
       "1      0.751776 -0.274241  0.645110 -0.432465 -0.189726 -0.249139  0.127754   \n",
       "2      0.792355 -0.169251  0.724541 -0.432465 -0.189726 -0.249139  0.127754   \n",
       "3      0.711197 -0.274241  0.823829  2.312241 -0.189726 -0.310048  0.127754   \n",
       "4     -0.384437 -0.274241  1.240842  2.871841 -0.189726  1.821787  0.070425   \n",
       "...         ...       ...       ...       ...       ...       ...       ...   \n",
       "72981 -1.155439  0.906893  1.737286 -0.432465 -0.189726 -0.310048  0.127754   \n",
       "72982  0.711197 -0.221746  0.803972 -0.432465 -0.189726 -0.310048  0.156418   \n",
       "72983 -1.155439  0.985635  0.784114 -0.432465 -0.189726  2.918160  0.213747   \n",
       "72984  0.792355 -0.247994 -0.923653 -0.432465 -0.189726 -0.310048  0.127754   \n",
       "72985  0.751776 -0.274241 -0.923653 -0.432465 -0.189726 -0.370958  0.213747   \n",
       "\n",
       "              7         8         9  \n",
       "0      0.607535 -0.420531 -0.183362  \n",
       "1      1.393569 -0.420531 -0.183362  \n",
       "2      1.409944 -0.420531 -0.183362  \n",
       "3      1.393569  2.628979 -0.183362  \n",
       "4      1.426320  1.619950 -0.183362  \n",
       "...         ...       ...       ...  \n",
       "72981  0.591159 -0.420531 -0.183362  \n",
       "72982  1.409944 -0.420531 -0.183362  \n",
       "72983  0.542032 -0.420531 -0.183362  \n",
       "72984 -0.899031 -0.420531 -0.183362  \n",
       "72985 -0.899031 -0.420531 -0.183362  \n",
       "\n",
       "[72986 rows x 10 columns]"
      ]
     },
     "execution_count": 10,
     "metadata": {},
     "output_type": "execute_result"
    }
   ],
   "source": [
    "standard_scalar = StandardScaler()\n",
    "features_dataframe = standard_scalar.fit_transform(features_dataframe)\n",
    "features_dataframe = pd.DataFrame(features_dataframe)\n",
    "features_dataframe"
   ]
  },
  {
   "cell_type": "code",
   "execution_count": 11,
   "id": "a46e9658",
   "metadata": {},
   "outputs": [
    {
     "data": {
      "text/html": [
       "<div>\n",
       "<style scoped>\n",
       "    .dataframe tbody tr th:only-of-type {\n",
       "        vertical-align: middle;\n",
       "    }\n",
       "\n",
       "    .dataframe tbody tr th {\n",
       "        vertical-align: top;\n",
       "    }\n",
       "\n",
       "    .dataframe thead th {\n",
       "        text-align: right;\n",
       "    }\n",
       "</style>\n",
       "<table border=\"1\" class=\"dataframe\">\n",
       "  <thead>\n",
       "    <tr style=\"text-align: right;\">\n",
       "      <th></th>\n",
       "      <th>0</th>\n",
       "      <th>1</th>\n",
       "      <th>2</th>\n",
       "      <th>3</th>\n",
       "      <th>4</th>\n",
       "      <th>5</th>\n",
       "      <th>6</th>\n",
       "      <th>7</th>\n",
       "      <th>8</th>\n",
       "      <th>9</th>\n",
       "      <th>is_gan</th>\n",
       "    </tr>\n",
       "  </thead>\n",
       "  <tbody>\n",
       "    <tr>\n",
       "      <th>0</th>\n",
       "      <td>-1.114860</td>\n",
       "      <td>1.090625</td>\n",
       "      <td>0.565679</td>\n",
       "      <td>-0.432465</td>\n",
       "      <td>-0.189726</td>\n",
       "      <td>2.979070</td>\n",
       "      <td>0.156418</td>\n",
       "      <td>0.607535</td>\n",
       "      <td>-0.420531</td>\n",
       "      <td>-0.183362</td>\n",
       "      <td>0</td>\n",
       "    </tr>\n",
       "    <tr>\n",
       "      <th>1</th>\n",
       "      <td>0.751776</td>\n",
       "      <td>-0.274241</td>\n",
       "      <td>0.645110</td>\n",
       "      <td>-0.432465</td>\n",
       "      <td>-0.189726</td>\n",
       "      <td>-0.249139</td>\n",
       "      <td>0.127754</td>\n",
       "      <td>1.393569</td>\n",
       "      <td>-0.420531</td>\n",
       "      <td>-0.183362</td>\n",
       "      <td>1</td>\n",
       "    </tr>\n",
       "    <tr>\n",
       "      <th>2</th>\n",
       "      <td>0.792355</td>\n",
       "      <td>-0.169251</td>\n",
       "      <td>0.724541</td>\n",
       "      <td>-0.432465</td>\n",
       "      <td>-0.189726</td>\n",
       "      <td>-0.249139</td>\n",
       "      <td>0.127754</td>\n",
       "      <td>1.409944</td>\n",
       "      <td>-0.420531</td>\n",
       "      <td>-0.183362</td>\n",
       "      <td>0</td>\n",
       "    </tr>\n",
       "    <tr>\n",
       "      <th>3</th>\n",
       "      <td>0.711197</td>\n",
       "      <td>-0.274241</td>\n",
       "      <td>0.823829</td>\n",
       "      <td>2.312241</td>\n",
       "      <td>-0.189726</td>\n",
       "      <td>-0.310048</td>\n",
       "      <td>0.127754</td>\n",
       "      <td>1.393569</td>\n",
       "      <td>2.628979</td>\n",
       "      <td>-0.183362</td>\n",
       "      <td>1</td>\n",
       "    </tr>\n",
       "    <tr>\n",
       "      <th>4</th>\n",
       "      <td>-0.384437</td>\n",
       "      <td>-0.274241</td>\n",
       "      <td>1.240842</td>\n",
       "      <td>2.871841</td>\n",
       "      <td>-0.189726</td>\n",
       "      <td>1.821787</td>\n",
       "      <td>0.070425</td>\n",
       "      <td>1.426320</td>\n",
       "      <td>1.619950</td>\n",
       "      <td>-0.183362</td>\n",
       "      <td>1</td>\n",
       "    </tr>\n",
       "    <tr>\n",
       "      <th>...</th>\n",
       "      <td>...</td>\n",
       "      <td>...</td>\n",
       "      <td>...</td>\n",
       "      <td>...</td>\n",
       "      <td>...</td>\n",
       "      <td>...</td>\n",
       "      <td>...</td>\n",
       "      <td>...</td>\n",
       "      <td>...</td>\n",
       "      <td>...</td>\n",
       "      <td>...</td>\n",
       "    </tr>\n",
       "    <tr>\n",
       "      <th>72981</th>\n",
       "      <td>-1.155439</td>\n",
       "      <td>0.906893</td>\n",
       "      <td>1.737286</td>\n",
       "      <td>-0.432465</td>\n",
       "      <td>-0.189726</td>\n",
       "      <td>-0.310048</td>\n",
       "      <td>0.127754</td>\n",
       "      <td>0.591159</td>\n",
       "      <td>-0.420531</td>\n",
       "      <td>-0.183362</td>\n",
       "      <td>0</td>\n",
       "    </tr>\n",
       "    <tr>\n",
       "      <th>72982</th>\n",
       "      <td>0.711197</td>\n",
       "      <td>-0.221746</td>\n",
       "      <td>0.803972</td>\n",
       "      <td>-0.432465</td>\n",
       "      <td>-0.189726</td>\n",
       "      <td>-0.310048</td>\n",
       "      <td>0.156418</td>\n",
       "      <td>1.409944</td>\n",
       "      <td>-0.420531</td>\n",
       "      <td>-0.183362</td>\n",
       "      <td>0</td>\n",
       "    </tr>\n",
       "    <tr>\n",
       "      <th>72983</th>\n",
       "      <td>-1.155439</td>\n",
       "      <td>0.985635</td>\n",
       "      <td>0.784114</td>\n",
       "      <td>-0.432465</td>\n",
       "      <td>-0.189726</td>\n",
       "      <td>2.918160</td>\n",
       "      <td>0.213747</td>\n",
       "      <td>0.542032</td>\n",
       "      <td>-0.420531</td>\n",
       "      <td>-0.183362</td>\n",
       "      <td>0</td>\n",
       "    </tr>\n",
       "    <tr>\n",
       "      <th>72984</th>\n",
       "      <td>0.792355</td>\n",
       "      <td>-0.247994</td>\n",
       "      <td>-0.923653</td>\n",
       "      <td>-0.432465</td>\n",
       "      <td>-0.189726</td>\n",
       "      <td>-0.310048</td>\n",
       "      <td>0.127754</td>\n",
       "      <td>-0.899031</td>\n",
       "      <td>-0.420531</td>\n",
       "      <td>-0.183362</td>\n",
       "      <td>0</td>\n",
       "    </tr>\n",
       "    <tr>\n",
       "      <th>72985</th>\n",
       "      <td>0.751776</td>\n",
       "      <td>-0.274241</td>\n",
       "      <td>-0.923653</td>\n",
       "      <td>-0.432465</td>\n",
       "      <td>-0.189726</td>\n",
       "      <td>-0.370958</td>\n",
       "      <td>0.213747</td>\n",
       "      <td>-0.899031</td>\n",
       "      <td>-0.420531</td>\n",
       "      <td>-0.183362</td>\n",
       "      <td>0</td>\n",
       "    </tr>\n",
       "  </tbody>\n",
       "</table>\n",
       "<p>72986 rows × 11 columns</p>\n",
       "</div>"
      ],
      "text/plain": [
       "              0         1         2         3         4         5         6  \\\n",
       "0     -1.114860  1.090625  0.565679 -0.432465 -0.189726  2.979070  0.156418   \n",
       "1      0.751776 -0.274241  0.645110 -0.432465 -0.189726 -0.249139  0.127754   \n",
       "2      0.792355 -0.169251  0.724541 -0.432465 -0.189726 -0.249139  0.127754   \n",
       "3      0.711197 -0.274241  0.823829  2.312241 -0.189726 -0.310048  0.127754   \n",
       "4     -0.384437 -0.274241  1.240842  2.871841 -0.189726  1.821787  0.070425   \n",
       "...         ...       ...       ...       ...       ...       ...       ...   \n",
       "72981 -1.155439  0.906893  1.737286 -0.432465 -0.189726 -0.310048  0.127754   \n",
       "72982  0.711197 -0.221746  0.803972 -0.432465 -0.189726 -0.310048  0.156418   \n",
       "72983 -1.155439  0.985635  0.784114 -0.432465 -0.189726  2.918160  0.213747   \n",
       "72984  0.792355 -0.247994 -0.923653 -0.432465 -0.189726 -0.310048  0.127754   \n",
       "72985  0.751776 -0.274241 -0.923653 -0.432465 -0.189726 -0.370958  0.213747   \n",
       "\n",
       "              7         8         9  is_gan  \n",
       "0      0.607535 -0.420531 -0.183362       0  \n",
       "1      1.393569 -0.420531 -0.183362       1  \n",
       "2      1.409944 -0.420531 -0.183362       0  \n",
       "3      1.393569  2.628979 -0.183362       1  \n",
       "4      1.426320  1.619950 -0.183362       1  \n",
       "...         ...       ...       ...     ...  \n",
       "72981  0.591159 -0.420531 -0.183362       0  \n",
       "72982  1.409944 -0.420531 -0.183362       0  \n",
       "72983  0.542032 -0.420531 -0.183362       0  \n",
       "72984 -0.899031 -0.420531 -0.183362       0  \n",
       "72985 -0.899031 -0.420531 -0.183362       0  \n",
       "\n",
       "[72986 rows x 11 columns]"
      ]
     },
     "execution_count": 11,
     "metadata": {},
     "output_type": "execute_result"
    }
   ],
   "source": [
    "features_dataframe[\"is_gan\"] = is_gan\n",
    "features_dataframe[\"is_gan\"] = features_dataframe[\"is_gan\"].map(dict(Yes=1, No=0))\n",
    "features_dataframe"
   ]
  },
  {
   "cell_type": "code",
   "execution_count": 12,
   "id": "5e0e1570",
   "metadata": {},
   "outputs": [
    {
     "data": {
      "text/plain": [
       "0         0\n",
       "1         0\n",
       "2         0\n",
       "3         0\n",
       "4         0\n",
       "5         0\n",
       "6         0\n",
       "7         0\n",
       "8         0\n",
       "9         0\n",
       "is_gan    0\n",
       "dtype: int64"
      ]
     },
     "execution_count": 12,
     "metadata": {},
     "output_type": "execute_result"
    }
   ],
   "source": [
    "features_dataframe.isna().sum()"
   ]
  },
  {
   "cell_type": "code",
   "execution_count": 13,
   "id": "ef9cb375",
   "metadata": {},
   "outputs": [],
   "source": [
    "x = features_dataframe\n",
    "y = features_dataframe[\"is_gan\"]\n",
    "x.drop(columns=[\"is_gan\"], inplace=True)"
   ]
  },
  {
   "cell_type": "code",
   "execution_count": 14,
   "id": "10f96f93",
   "metadata": {},
   "outputs": [],
   "source": [
    "x_train, x_test, y_train, y_test = train_test_split(x, y, test_size=0.30, random_state=0)"
   ]
  },
  {
   "cell_type": "code",
   "execution_count": 15,
   "id": "a1c952ab",
   "metadata": {},
   "outputs": [
    {
     "data": {
      "text/plain": [
       "'Shape of training data = 51090 and testing data = 21896'"
      ]
     },
     "execution_count": 15,
     "metadata": {},
     "output_type": "execute_result"
    }
   ],
   "source": [
    "f\"Shape of training data = {x_train.shape[0]} and testing data = {x_test.shape[0]}\""
   ]
  },
  {
   "cell_type": "markdown",
   "id": "a8ff0ff8",
   "metadata": {},
   "source": [
    "## Performing experiments using the following hyperparameters to find the best model"
   ]
  },
  {
   "cell_type": "code",
   "execution_count": 25,
   "id": "75bc13d9",
   "metadata": {},
   "outputs": [
    {
     "data": {
      "text/html": [
       "<style>#sk-container-id-4 {color: black;background-color: white;}#sk-container-id-4 pre{padding: 0;}#sk-container-id-4 div.sk-toggleable {background-color: white;}#sk-container-id-4 label.sk-toggleable__label {cursor: pointer;display: block;width: 100%;margin-bottom: 0;padding: 0.3em;box-sizing: border-box;text-align: center;}#sk-container-id-4 label.sk-toggleable__label-arrow:before {content: \"▸\";float: left;margin-right: 0.25em;color: #696969;}#sk-container-id-4 label.sk-toggleable__label-arrow:hover:before {color: black;}#sk-container-id-4 div.sk-estimator:hover label.sk-toggleable__label-arrow:before {color: black;}#sk-container-id-4 div.sk-toggleable__content {max-height: 0;max-width: 0;overflow: hidden;text-align: left;background-color: #f0f8ff;}#sk-container-id-4 div.sk-toggleable__content pre {margin: 0.2em;color: black;border-radius: 0.25em;background-color: #f0f8ff;}#sk-container-id-4 input.sk-toggleable__control:checked~div.sk-toggleable__content {max-height: 200px;max-width: 100%;overflow: auto;}#sk-container-id-4 input.sk-toggleable__control:checked~label.sk-toggleable__label-arrow:before {content: \"▾\";}#sk-container-id-4 div.sk-estimator input.sk-toggleable__control:checked~label.sk-toggleable__label {background-color: #d4ebff;}#sk-container-id-4 div.sk-label input.sk-toggleable__control:checked~label.sk-toggleable__label {background-color: #d4ebff;}#sk-container-id-4 input.sk-hidden--visually {border: 0;clip: rect(1px 1px 1px 1px);clip: rect(1px, 1px, 1px, 1px);height: 1px;margin: -1px;overflow: hidden;padding: 0;position: absolute;width: 1px;}#sk-container-id-4 div.sk-estimator {font-family: monospace;background-color: #f0f8ff;border: 1px dotted black;border-radius: 0.25em;box-sizing: border-box;margin-bottom: 0.5em;}#sk-container-id-4 div.sk-estimator:hover {background-color: #d4ebff;}#sk-container-id-4 div.sk-parallel-item::after {content: \"\";width: 100%;border-bottom: 1px solid gray;flex-grow: 1;}#sk-container-id-4 div.sk-label:hover label.sk-toggleable__label {background-color: #d4ebff;}#sk-container-id-4 div.sk-serial::before {content: \"\";position: absolute;border-left: 1px solid gray;box-sizing: border-box;top: 0;bottom: 0;left: 50%;z-index: 0;}#sk-container-id-4 div.sk-serial {display: flex;flex-direction: column;align-items: center;background-color: white;padding-right: 0.2em;padding-left: 0.2em;position: relative;}#sk-container-id-4 div.sk-item {position: relative;z-index: 1;}#sk-container-id-4 div.sk-parallel {display: flex;align-items: stretch;justify-content: center;background-color: white;position: relative;}#sk-container-id-4 div.sk-item::before, #sk-container-id-4 div.sk-parallel-item::before {content: \"\";position: absolute;border-left: 1px solid gray;box-sizing: border-box;top: 0;bottom: 0;left: 50%;z-index: -1;}#sk-container-id-4 div.sk-parallel-item {display: flex;flex-direction: column;z-index: 1;position: relative;background-color: white;}#sk-container-id-4 div.sk-parallel-item:first-child::after {align-self: flex-end;width: 50%;}#sk-container-id-4 div.sk-parallel-item:last-child::after {align-self: flex-start;width: 50%;}#sk-container-id-4 div.sk-parallel-item:only-child::after {width: 0;}#sk-container-id-4 div.sk-dashed-wrapped {border: 1px dashed gray;margin: 0 0.4em 0.5em 0.4em;box-sizing: border-box;padding-bottom: 0.4em;background-color: white;}#sk-container-id-4 div.sk-label label {font-family: monospace;font-weight: bold;display: inline-block;line-height: 1.2em;}#sk-container-id-4 div.sk-label-container {text-align: center;}#sk-container-id-4 div.sk-container {/* jupyter's `normalize.less` sets `[hidden] { display: none; }` but bootstrap.min.css set `[hidden] { display: none !important; }` so we also need the `!important` here to be able to override the default hidden behavior on the sphinx rendered scikit-learn.org. See: https://github.com/scikit-learn/scikit-learn/issues/21755 */display: inline-block !important;position: relative;}#sk-container-id-4 div.sk-text-repr-fallback {display: none;}</style><div id=\"sk-container-id-4\" class=\"sk-top-container\"><div class=\"sk-text-repr-fallback\"><pre>Pipeline(steps=[(&#x27;classifier&#x27;, AdaBoostClassifier())])</pre><b>In a Jupyter environment, please rerun this cell to show the HTML representation or trust the notebook. <br />On GitHub, the HTML representation is unable to render, please try loading this page with nbviewer.org.</b></div><div class=\"sk-container\" hidden><div class=\"sk-item sk-dashed-wrapped\"><div class=\"sk-label-container\"><div class=\"sk-label sk-toggleable\"><input class=\"sk-toggleable__control sk-hidden--visually\" id=\"sk-estimator-id-7\" type=\"checkbox\" ><label for=\"sk-estimator-id-7\" class=\"sk-toggleable__label sk-toggleable__label-arrow\">Pipeline</label><div class=\"sk-toggleable__content\"><pre>Pipeline(steps=[(&#x27;classifier&#x27;, AdaBoostClassifier())])</pre></div></div></div><div class=\"sk-serial\"><div class=\"sk-item\"><div class=\"sk-estimator sk-toggleable\"><input class=\"sk-toggleable__control sk-hidden--visually\" id=\"sk-estimator-id-8\" type=\"checkbox\" ><label for=\"sk-estimator-id-8\" class=\"sk-toggleable__label sk-toggleable__label-arrow\">AdaBoostClassifier</label><div class=\"sk-toggleable__content\"><pre>AdaBoostClassifier()</pre></div></div></div></div></div></div></div>"
      ],
      "text/plain": [
       "Pipeline(steps=[('classifier', AdaBoostClassifier())])"
      ]
     },
     "execution_count": 25,
     "metadata": {},
     "output_type": "execute_result"
    }
   ],
   "source": [
    "# Performing Kfold cross validation\n",
    "adaboost_pipeline = Pipeline([(\"classifier\", AdaBoostClassifier())])\n",
    "param_grid = {'classifier__n_estimators' : list(range(1,100)),\n",
    "             'classifier__learning_rate' : [0.1, 0.01, 0.001, 0.0001],\n",
    "             'classifier__algorithm' : ['SAMME', 'SAMME.R']\n",
    "             }\n",
    "\n",
    "adaboost_pipeline"
   ]
  },
  {
   "cell_type": "code",
   "execution_count": 26,
   "id": "eeff6c6d",
   "metadata": {},
   "outputs": [],
   "source": [
    "gridsearch_cv = GridSearchCV(adaboost_pipeline, param_grid=param_grid, cv=10, verbose=2, n_jobs=-1)"
   ]
  },
  {
   "cell_type": "code",
   "execution_count": 27,
   "id": "b12b3883",
   "metadata": {},
   "outputs": [
    {
     "name": "stdout",
     "output_type": "stream",
     "text": [
      "Fitting 10 folds for each of 792 candidates, totalling 7920 fits\n"
     ]
    },
    {
     "data": {
      "text/html": [
       "<style>#sk-container-id-5 {color: black;background-color: white;}#sk-container-id-5 pre{padding: 0;}#sk-container-id-5 div.sk-toggleable {background-color: white;}#sk-container-id-5 label.sk-toggleable__label {cursor: pointer;display: block;width: 100%;margin-bottom: 0;padding: 0.3em;box-sizing: border-box;text-align: center;}#sk-container-id-5 label.sk-toggleable__label-arrow:before {content: \"▸\";float: left;margin-right: 0.25em;color: #696969;}#sk-container-id-5 label.sk-toggleable__label-arrow:hover:before {color: black;}#sk-container-id-5 div.sk-estimator:hover label.sk-toggleable__label-arrow:before {color: black;}#sk-container-id-5 div.sk-toggleable__content {max-height: 0;max-width: 0;overflow: hidden;text-align: left;background-color: #f0f8ff;}#sk-container-id-5 div.sk-toggleable__content pre {margin: 0.2em;color: black;border-radius: 0.25em;background-color: #f0f8ff;}#sk-container-id-5 input.sk-toggleable__control:checked~div.sk-toggleable__content {max-height: 200px;max-width: 100%;overflow: auto;}#sk-container-id-5 input.sk-toggleable__control:checked~label.sk-toggleable__label-arrow:before {content: \"▾\";}#sk-container-id-5 div.sk-estimator input.sk-toggleable__control:checked~label.sk-toggleable__label {background-color: #d4ebff;}#sk-container-id-5 div.sk-label input.sk-toggleable__control:checked~label.sk-toggleable__label {background-color: #d4ebff;}#sk-container-id-5 input.sk-hidden--visually {border: 0;clip: rect(1px 1px 1px 1px);clip: rect(1px, 1px, 1px, 1px);height: 1px;margin: -1px;overflow: hidden;padding: 0;position: absolute;width: 1px;}#sk-container-id-5 div.sk-estimator {font-family: monospace;background-color: #f0f8ff;border: 1px dotted black;border-radius: 0.25em;box-sizing: border-box;margin-bottom: 0.5em;}#sk-container-id-5 div.sk-estimator:hover {background-color: #d4ebff;}#sk-container-id-5 div.sk-parallel-item::after {content: \"\";width: 100%;border-bottom: 1px solid gray;flex-grow: 1;}#sk-container-id-5 div.sk-label:hover label.sk-toggleable__label {background-color: #d4ebff;}#sk-container-id-5 div.sk-serial::before {content: \"\";position: absolute;border-left: 1px solid gray;box-sizing: border-box;top: 0;bottom: 0;left: 50%;z-index: 0;}#sk-container-id-5 div.sk-serial {display: flex;flex-direction: column;align-items: center;background-color: white;padding-right: 0.2em;padding-left: 0.2em;position: relative;}#sk-container-id-5 div.sk-item {position: relative;z-index: 1;}#sk-container-id-5 div.sk-parallel {display: flex;align-items: stretch;justify-content: center;background-color: white;position: relative;}#sk-container-id-5 div.sk-item::before, #sk-container-id-5 div.sk-parallel-item::before {content: \"\";position: absolute;border-left: 1px solid gray;box-sizing: border-box;top: 0;bottom: 0;left: 50%;z-index: -1;}#sk-container-id-5 div.sk-parallel-item {display: flex;flex-direction: column;z-index: 1;position: relative;background-color: white;}#sk-container-id-5 div.sk-parallel-item:first-child::after {align-self: flex-end;width: 50%;}#sk-container-id-5 div.sk-parallel-item:last-child::after {align-self: flex-start;width: 50%;}#sk-container-id-5 div.sk-parallel-item:only-child::after {width: 0;}#sk-container-id-5 div.sk-dashed-wrapped {border: 1px dashed gray;margin: 0 0.4em 0.5em 0.4em;box-sizing: border-box;padding-bottom: 0.4em;background-color: white;}#sk-container-id-5 div.sk-label label {font-family: monospace;font-weight: bold;display: inline-block;line-height: 1.2em;}#sk-container-id-5 div.sk-label-container {text-align: center;}#sk-container-id-5 div.sk-container {/* jupyter's `normalize.less` sets `[hidden] { display: none; }` but bootstrap.min.css set `[hidden] { display: none !important; }` so we also need the `!important` here to be able to override the default hidden behavior on the sphinx rendered scikit-learn.org. See: https://github.com/scikit-learn/scikit-learn/issues/21755 */display: inline-block !important;position: relative;}#sk-container-id-5 div.sk-text-repr-fallback {display: none;}</style><div id=\"sk-container-id-5\" class=\"sk-top-container\"><div class=\"sk-text-repr-fallback\"><pre>GridSearchCV(cv=10,\n",
       "             estimator=Pipeline(steps=[(&#x27;classifier&#x27;, AdaBoostClassifier())]),\n",
       "             n_jobs=-1,\n",
       "             param_grid={&#x27;classifier__algorithm&#x27;: [&#x27;SAMME&#x27;, &#x27;SAMME.R&#x27;],\n",
       "                         &#x27;classifier__learning_rate&#x27;: [0.1, 0.01, 0.001,\n",
       "                                                       0.0001],\n",
       "                         &#x27;classifier__n_estimators&#x27;: [1, 2, 3, 4, 5, 6, 7, 8, 9,\n",
       "                                                      10, 11, 12, 13, 14, 15,\n",
       "                                                      16, 17, 18, 19, 20, 21,\n",
       "                                                      22, 23, 24, 25, 26, 27,\n",
       "                                                      28, 29, 30, ...]},\n",
       "             verbose=2)</pre><b>In a Jupyter environment, please rerun this cell to show the HTML representation or trust the notebook. <br />On GitHub, the HTML representation is unable to render, please try loading this page with nbviewer.org.</b></div><div class=\"sk-container\" hidden><div class=\"sk-item sk-dashed-wrapped\"><div class=\"sk-label-container\"><div class=\"sk-label sk-toggleable\"><input class=\"sk-toggleable__control sk-hidden--visually\" id=\"sk-estimator-id-9\" type=\"checkbox\" ><label for=\"sk-estimator-id-9\" class=\"sk-toggleable__label sk-toggleable__label-arrow\">GridSearchCV</label><div class=\"sk-toggleable__content\"><pre>GridSearchCV(cv=10,\n",
       "             estimator=Pipeline(steps=[(&#x27;classifier&#x27;, AdaBoostClassifier())]),\n",
       "             n_jobs=-1,\n",
       "             param_grid={&#x27;classifier__algorithm&#x27;: [&#x27;SAMME&#x27;, &#x27;SAMME.R&#x27;],\n",
       "                         &#x27;classifier__learning_rate&#x27;: [0.1, 0.01, 0.001,\n",
       "                                                       0.0001],\n",
       "                         &#x27;classifier__n_estimators&#x27;: [1, 2, 3, 4, 5, 6, 7, 8, 9,\n",
       "                                                      10, 11, 12, 13, 14, 15,\n",
       "                                                      16, 17, 18, 19, 20, 21,\n",
       "                                                      22, 23, 24, 25, 26, 27,\n",
       "                                                      28, 29, 30, ...]},\n",
       "             verbose=2)</pre></div></div></div><div class=\"sk-parallel\"><div class=\"sk-parallel-item\"><div class=\"sk-item\"><div class=\"sk-label-container\"><div class=\"sk-label sk-toggleable\"><input class=\"sk-toggleable__control sk-hidden--visually\" id=\"sk-estimator-id-10\" type=\"checkbox\" ><label for=\"sk-estimator-id-10\" class=\"sk-toggleable__label sk-toggleable__label-arrow\">estimator: Pipeline</label><div class=\"sk-toggleable__content\"><pre>Pipeline(steps=[(&#x27;classifier&#x27;, AdaBoostClassifier())])</pre></div></div></div><div class=\"sk-serial\"><div class=\"sk-item\"><div class=\"sk-serial\"><div class=\"sk-item\"><div class=\"sk-estimator sk-toggleable\"><input class=\"sk-toggleable__control sk-hidden--visually\" id=\"sk-estimator-id-11\" type=\"checkbox\" ><label for=\"sk-estimator-id-11\" class=\"sk-toggleable__label sk-toggleable__label-arrow\">AdaBoostClassifier</label><div class=\"sk-toggleable__content\"><pre>AdaBoostClassifier()</pre></div></div></div></div></div></div></div></div></div></div></div></div>"
      ],
      "text/plain": [
       "GridSearchCV(cv=10,\n",
       "             estimator=Pipeline(steps=[('classifier', AdaBoostClassifier())]),\n",
       "             n_jobs=-1,\n",
       "             param_grid={'classifier__algorithm': ['SAMME', 'SAMME.R'],\n",
       "                         'classifier__learning_rate': [0.1, 0.01, 0.001,\n",
       "                                                       0.0001],\n",
       "                         'classifier__n_estimators': [1, 2, 3, 4, 5, 6, 7, 8, 9,\n",
       "                                                      10, 11, 12, 13, 14, 15,\n",
       "                                                      16, 17, 18, 19, 20, 21,\n",
       "                                                      22, 23, 24, 25, 26, 27,\n",
       "                                                      28, 29, 30, ...]},\n",
       "             verbose=2)"
      ]
     },
     "execution_count": 27,
     "metadata": {},
     "output_type": "execute_result"
    }
   ],
   "source": [
    "gridsearch_cv.fit(x_train, y_train)"
   ]
  },
  {
   "cell_type": "code",
   "execution_count": 28,
   "id": "285486a4",
   "metadata": {},
   "outputs": [
    {
     "data": {
      "text/plain": [
       "{'classifier__algorithm': 'SAMME',\n",
       " 'classifier__learning_rate': 0.1,\n",
       " 'classifier__n_estimators': 3}"
      ]
     },
     "execution_count": 28,
     "metadata": {},
     "output_type": "execute_result"
    }
   ],
   "source": [
    "gridsearch_cv.best_params_"
   ]
  },
  {
   "cell_type": "markdown",
   "id": "dd4947d7",
   "metadata": {},
   "source": [
    "## Training the model on the above best parameters"
   ]
  },
  {
   "cell_type": "code",
   "execution_count": 29,
   "id": "7f974748",
   "metadata": {},
   "outputs": [
    {
     "data": {
      "text/html": [
       "<style>#sk-container-id-6 {color: black;background-color: white;}#sk-container-id-6 pre{padding: 0;}#sk-container-id-6 div.sk-toggleable {background-color: white;}#sk-container-id-6 label.sk-toggleable__label {cursor: pointer;display: block;width: 100%;margin-bottom: 0;padding: 0.3em;box-sizing: border-box;text-align: center;}#sk-container-id-6 label.sk-toggleable__label-arrow:before {content: \"▸\";float: left;margin-right: 0.25em;color: #696969;}#sk-container-id-6 label.sk-toggleable__label-arrow:hover:before {color: black;}#sk-container-id-6 div.sk-estimator:hover label.sk-toggleable__label-arrow:before {color: black;}#sk-container-id-6 div.sk-toggleable__content {max-height: 0;max-width: 0;overflow: hidden;text-align: left;background-color: #f0f8ff;}#sk-container-id-6 div.sk-toggleable__content pre {margin: 0.2em;color: black;border-radius: 0.25em;background-color: #f0f8ff;}#sk-container-id-6 input.sk-toggleable__control:checked~div.sk-toggleable__content {max-height: 200px;max-width: 100%;overflow: auto;}#sk-container-id-6 input.sk-toggleable__control:checked~label.sk-toggleable__label-arrow:before {content: \"▾\";}#sk-container-id-6 div.sk-estimator input.sk-toggleable__control:checked~label.sk-toggleable__label {background-color: #d4ebff;}#sk-container-id-6 div.sk-label input.sk-toggleable__control:checked~label.sk-toggleable__label {background-color: #d4ebff;}#sk-container-id-6 input.sk-hidden--visually {border: 0;clip: rect(1px 1px 1px 1px);clip: rect(1px, 1px, 1px, 1px);height: 1px;margin: -1px;overflow: hidden;padding: 0;position: absolute;width: 1px;}#sk-container-id-6 div.sk-estimator {font-family: monospace;background-color: #f0f8ff;border: 1px dotted black;border-radius: 0.25em;box-sizing: border-box;margin-bottom: 0.5em;}#sk-container-id-6 div.sk-estimator:hover {background-color: #d4ebff;}#sk-container-id-6 div.sk-parallel-item::after {content: \"\";width: 100%;border-bottom: 1px solid gray;flex-grow: 1;}#sk-container-id-6 div.sk-label:hover label.sk-toggleable__label {background-color: #d4ebff;}#sk-container-id-6 div.sk-serial::before {content: \"\";position: absolute;border-left: 1px solid gray;box-sizing: border-box;top: 0;bottom: 0;left: 50%;z-index: 0;}#sk-container-id-6 div.sk-serial {display: flex;flex-direction: column;align-items: center;background-color: white;padding-right: 0.2em;padding-left: 0.2em;position: relative;}#sk-container-id-6 div.sk-item {position: relative;z-index: 1;}#sk-container-id-6 div.sk-parallel {display: flex;align-items: stretch;justify-content: center;background-color: white;position: relative;}#sk-container-id-6 div.sk-item::before, #sk-container-id-6 div.sk-parallel-item::before {content: \"\";position: absolute;border-left: 1px solid gray;box-sizing: border-box;top: 0;bottom: 0;left: 50%;z-index: -1;}#sk-container-id-6 div.sk-parallel-item {display: flex;flex-direction: column;z-index: 1;position: relative;background-color: white;}#sk-container-id-6 div.sk-parallel-item:first-child::after {align-self: flex-end;width: 50%;}#sk-container-id-6 div.sk-parallel-item:last-child::after {align-self: flex-start;width: 50%;}#sk-container-id-6 div.sk-parallel-item:only-child::after {width: 0;}#sk-container-id-6 div.sk-dashed-wrapped {border: 1px dashed gray;margin: 0 0.4em 0.5em 0.4em;box-sizing: border-box;padding-bottom: 0.4em;background-color: white;}#sk-container-id-6 div.sk-label label {font-family: monospace;font-weight: bold;display: inline-block;line-height: 1.2em;}#sk-container-id-6 div.sk-label-container {text-align: center;}#sk-container-id-6 div.sk-container {/* jupyter's `normalize.less` sets `[hidden] { display: none; }` but bootstrap.min.css set `[hidden] { display: none !important; }` so we also need the `!important` here to be able to override the default hidden behavior on the sphinx rendered scikit-learn.org. See: https://github.com/scikit-learn/scikit-learn/issues/21755 */display: inline-block !important;position: relative;}#sk-container-id-6 div.sk-text-repr-fallback {display: none;}</style><div id=\"sk-container-id-6\" class=\"sk-top-container\"><div class=\"sk-text-repr-fallback\"><pre>AdaBoostClassifier(algorithm=&#x27;SAMME&#x27;, learning_rate=0.1, n_estimators=3)</pre><b>In a Jupyter environment, please rerun this cell to show the HTML representation or trust the notebook. <br />On GitHub, the HTML representation is unable to render, please try loading this page with nbviewer.org.</b></div><div class=\"sk-container\" hidden><div class=\"sk-item\"><div class=\"sk-estimator sk-toggleable\"><input class=\"sk-toggleable__control sk-hidden--visually\" id=\"sk-estimator-id-12\" type=\"checkbox\" checked><label for=\"sk-estimator-id-12\" class=\"sk-toggleable__label sk-toggleable__label-arrow\">AdaBoostClassifier</label><div class=\"sk-toggleable__content\"><pre>AdaBoostClassifier(algorithm=&#x27;SAMME&#x27;, learning_rate=0.1, n_estimators=3)</pre></div></div></div></div></div>"
      ],
      "text/plain": [
       "AdaBoostClassifier(algorithm='SAMME', learning_rate=0.1, n_estimators=3)"
      ]
     },
     "execution_count": 29,
     "metadata": {},
     "output_type": "execute_result"
    }
   ],
   "source": [
    "adaboost_model = AdaBoostClassifier(algorithm=\"SAMME\", learning_rate=0.1, n_estimators=3)\n",
    "adaboost_model.fit(x_train, y_train)"
   ]
  },
  {
   "cell_type": "code",
   "execution_count": 31,
   "id": "efb26728",
   "metadata": {},
   "outputs": [],
   "source": [
    "adaboost_model_predictions = adaboost_model.predict(x_test)"
   ]
  },
  {
   "cell_type": "code",
   "execution_count": 33,
   "id": "f18b09d9",
   "metadata": {},
   "outputs": [
    {
     "name": "stdout",
     "output_type": "stream",
     "text": [
      "The confusion matrix for Decision Tree Classifier is given below: \n",
      " [[14908     0]\n",
      " [ 6988     0]]\n"
     ]
    }
   ],
   "source": [
    "cm = metrics.confusion_matrix(y_test, adaboost_model_predictions)\n",
    "print(f\"The confusion matrix for Decision Tree Classifier is given below: \\n {cm}\")"
   ]
  },
  {
   "cell_type": "code",
   "execution_count": 34,
   "id": "4a20e7a1",
   "metadata": {},
   "outputs": [
    {
     "data": {
      "text/plain": [
       "0.6808549506759225"
      ]
     },
     "execution_count": 34,
     "metadata": {},
     "output_type": "execute_result"
    }
   ],
   "source": [
    "abc_precision = precision_score(y_test, adaboost_model_predictions, average='weighted', labels=np.unique(adaboost_model_predictions))\n",
    "abc_precision"
   ]
  },
  {
   "cell_type": "code",
   "execution_count": 35,
   "id": "8f7da26e",
   "metadata": {},
   "outputs": [
    {
     "data": {
      "text/plain": [
       "1.0"
      ]
     },
     "execution_count": 35,
     "metadata": {},
     "output_type": "execute_result"
    }
   ],
   "source": [
    "abc_recall = recall_score(y_test, adaboost_model_predictions, average='weighted', labels=np.unique(adaboost_model_predictions))\n",
    "abc_recall"
   ]
  },
  {
   "cell_type": "code",
   "execution_count": 36,
   "id": "b302e40f",
   "metadata": {},
   "outputs": [
    {
     "data": {
      "text/plain": [
       "0.8101293337680686"
      ]
     },
     "execution_count": 36,
     "metadata": {},
     "output_type": "execute_result"
    }
   ],
   "source": [
    "abc_f1 = f1_score(y_test, adaboost_model_predictions, average='weighted', labels=np.unique(adaboost_model_predictions))\n",
    "abc_f1"
   ]
  },
  {
   "cell_type": "code",
   "execution_count": 37,
   "id": "3bb09510",
   "metadata": {},
   "outputs": [],
   "source": [
    "# storing the deci model\n",
    "filename = 'adaboost_model_final.pkl'\n",
    "pickle.dump(adaboost_model, open(filename, 'wb'))"
   ]
  },
  {
   "cell_type": "code",
   "execution_count": null,
   "id": "0aae1fc8",
   "metadata": {},
   "outputs": [],
   "source": []
  }
 ],
 "metadata": {
  "kernelspec": {
   "display_name": "Python 3 (ipykernel)",
   "language": "python",
   "name": "python3"
  },
  "language_info": {
   "codemirror_mode": {
    "name": "ipython",
    "version": 3
   },
   "file_extension": ".py",
   "mimetype": "text/x-python",
   "name": "python",
   "nbconvert_exporter": "python",
   "pygments_lexer": "ipython3",
   "version": "3.10.9"
  }
 },
 "nbformat": 4,
 "nbformat_minor": 5
}
